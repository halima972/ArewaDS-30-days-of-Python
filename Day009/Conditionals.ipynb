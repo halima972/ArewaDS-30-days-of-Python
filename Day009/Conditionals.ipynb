{
 "cells": [
  {
   "cell_type": "markdown",
   "metadata": {},
   "source": [
    "# Exercises: Day 9"
   ]
  },
  {
   "cell_type": "markdown",
   "metadata": {},
   "source": [
    "## Exercises: Level 1"
   ]
  },
  {
   "cell_type": "markdown",
   "metadata": {},
   "source": [
    "Task 1:Get user input using input(“Enter your age: ”). If user is 18 or older, give feedback: You are old enough to drive. If below 18 give feedback to wait for the missing amount of years. "
   ]
  },
  {
   "cell_type": "code",
   "execution_count": 3,
   "metadata": {},
   "outputs": [
    {
     "name": "stdout",
     "output_type": "stream",
     "text": [
      "The age you entered is 18\n",
      "You are old enough to drive.\n"
     ]
    }
   ],
   "source": [
    "age = int(input(\"Enter Your age:\"))\n",
    "print(\"The age you entered is\", age)\n",
    "if age>= 18:\n",
    "    print(\"You are old enough to drive.\")\n",
    "else:\n",
    "    print(\"You need to be 18 years to drive\")\n"
   ]
  },
  {
   "cell_type": "markdown",
   "metadata": {},
   "source": [
    "Task 2:Compare the values of my_age and your_age using if … else. Who is older (me or you)? Use input(“Enter your age: ”) to get the age as input. You can use a nested condition to print 'year' for 1 year difference in age, 'years' for bigger differences, and a custom text if my_age = your_age. "
   ]
  },
  {
   "cell_type": "code",
   "execution_count": 7,
   "metadata": {},
   "outputs": [
    {
     "name": "stdout",
     "output_type": "stream",
     "text": [
      "The age you entered is: 30\n",
      "Salute!!! your are older than me\n"
     ]
    }
   ],
   "source": [
    "your_age = int(input(\"Enter Your age:\"))\n",
    "my_age = 20\n",
    "print(\"The age you entered is:\", your_age)\n",
    "if your_age <= my_age:\n",
    "    print(\"i am older than you!\")\n",
    "else:\n",
    "    print(\"Salute!!! your are older than me\")"
   ]
  },
  {
   "cell_type": "markdown",
   "metadata": {},
   "source": [
    "Task 3:Get two numbers from the user using input prompt. If a is greater than b return a is greater than b, if a is less b return a is smaller than b, else a is equal to b. Output:"
   ]
  },
  {
   "cell_type": "code",
   "execution_count": 9,
   "metadata": {},
   "outputs": [
    {
     "name": "stdout",
     "output_type": "stream",
     "text": [
      "First number is 4\n",
      "Second number is: 7\n",
      "4 is smaller than 7\n"
     ]
    }
   ],
   "source": [
    "a = int(input(\"Enter a number:\"))\n",
    "print('First number is', a)\n",
    "b = int(input(\"Enter a number:\"))\n",
    "print(\"Second number is:\", b)\n",
    "if a>= b:\n",
    "    print(a,'is greater than', b)\n",
    "elif a <=b:\n",
    "    print(a ,'is smaller than', b)\n",
    "else:\n",
    "    print(a, 'is equal to', b)"
   ]
  },
  {
   "cell_type": "markdown",
   "metadata": {},
   "source": [
    "## Exercises: Level 2\n"
   ]
  },
  {
   "cell_type": "markdown",
   "metadata": {},
   "source": [
    "Task 1:Write a code which gives grade to students according to theirs scores"
   ]
  },
  {
   "cell_type": "code",
   "execution_count": 24,
   "metadata": {},
   "outputs": [
    {
     "name": "stdout",
     "output_type": "stream",
     "text": [
      "The score entered 67\n",
      "C\n"
     ]
    }
   ],
   "source": [
    "score = int(input(\"Enter a score:\"))\n",
    "print(\"The score entered\", score)\n",
    "if 80 <= score <= 100:\n",
    "    print(\"A\")\n",
    "elif 70 <= score <= 89:\n",
    "    print(\"B\")\n",
    "elif 60 <=score <=69:\n",
    "    print(\"C\")\n",
    "elif 50 <= score <= 59:\n",
    "    print(\"D\")\n",
    "elif 0 <= score <= 49:\n",
    "    print(\"F, Try harder next time\")\n",
    "else:\n",
    "    print(\"Invalid Score\")"
   ]
  },
  {
   "cell_type": "markdown",
   "metadata": {},
   "source": [
    "Task 2:Check if the season is Autumn, Winter, Spring or Summer. If the user input is: September, October or November, the season is Autumn. December, January or February, the season is Winter. March, April or May, the season is Spring June, July or August, the season is Summer"
   ]
  },
  {
   "cell_type": "code",
   "execution_count": 26,
   "metadata": {},
   "outputs": [
    {
     "name": "stdout",
     "output_type": "stream",
     "text": [
      "Month entered: July\n",
      "The season is Summer\n"
     ]
    }
   ],
   "source": [
    "month = input (\"Enter a month:\")\n",
    "print('Month entered:', month )\n",
    "Autumn = ['September', 'October', 'November']\n",
    "Winter = ['December', 'January','February']\n",
    "Spring =['March','April','May']\n",
    "Summer = ['June', 'July', ' August']\n",
    "if month in Autumn:\n",
    "    print (\"The season is Autumn\")\n",
    "elif month in Winter:\n",
    "    print(\"The season is Winter\")\n",
    "elif month in Spring:\n",
    "    print(\"The season is Spring\")\n",
    "elif month in Summer:\n",
    "    print(\"The season is Summer\")\n",
    "else:\n",
    "    print('invalid month')"
   ]
  },
  {
   "cell_type": "markdown",
   "metadata": {},
   "source": [
    "Task 3:If a fruit doesn't exist in the list add the fruit to the list and print the modified list. If the fruit exists print('That fruit already exist in the list')"
   ]
  },
  {
   "cell_type": "code",
   "execution_count": 12,
   "metadata": {},
   "outputs": [
    {
     "name": "stdout",
     "output_type": "stream",
     "text": [
      "You entered: apple\n",
      "Updated fruits list: ['banana', 'orange', 'mango', 'lemon', 'apple']\n"
     ]
    }
   ],
   "source": [
    "fruits = ['banana', 'orange', 'mango', 'lemon']\n",
    "my_fruit = input(\"Enter a fruit: \")\n",
    "my_fruit = my_fruit.lower()\n",
    "\n",
    "print(\"You entered:\", my_fruit)  # Add this line for debugging\n",
    "\n",
    "if my_fruit not in fruits:\n",
    "    fruits.append(my_fruit)\n",
    "    print(\"Updated fruits list:\", fruits)\n",
    "else:\n",
    "    print(\"Fruit already exists or invalid input\")\n"
   ]
  },
  {
   "cell_type": "markdown",
   "metadata": {},
   "source": [
    "## Exercises: Level 3"
   ]
  },
  {
   "cell_type": "markdown",
   "metadata": {},
   "source": [
    "Task 1:Here we have a person dictionary. Feel free to modify it!"
   ]
  },
  {
   "cell_type": "code",
   "execution_count": 16,
   "metadata": {},
   "outputs": [],
   "source": [
    "person={\n",
    "    'first_name': 'Asabeneh',\n",
    "    'last_name': 'Yetayeh',\n",
    "    'age': 250,\n",
    "    'country': 'Finland',\n",
    "    'is_marred': True,\n",
    "    'skills': ['JavaScript', 'React', 'Node', 'MongoDB', 'Python'],\n",
    "    'address': {\n",
    "        'street': 'Space street',\n",
    "        'zipcode': '02210'\n",
    "    }\n",
    "    }\n"
   ]
  },
  {
   "cell_type": "markdown",
   "metadata": {},
   "source": [
    "Task 2:Check if the person dictionary has skills key, if so print out the middle skill in the skills list."
   ]
  },
  {
   "cell_type": "code",
   "execution_count": 15,
   "metadata": {},
   "outputs": [
    {
     "name": "stdout",
     "output_type": "stream",
     "text": [
      "Node\n"
     ]
    }
   ],
   "source": [
    "Skills = \"skills\" in person\n",
    "skill = person['skills']\n",
    "if Skills == True:\n",
    "    print(skill[2])\n"
   ]
  },
  {
   "cell_type": "markdown",
   "metadata": {},
   "source": [
    "Task 3:Check if the person dictionary has skills key, if so check if the person has 'Python' skill and print out the result."
   ]
  },
  {
   "cell_type": "code",
   "execution_count": 17,
   "metadata": {},
   "outputs": [
    {
     "name": "stdout",
     "output_type": "stream",
     "text": [
      "Has Python skills\n"
     ]
    }
   ],
   "source": [
    "if 'Python' in skill:\n",
    "        print(\"Has Python skills\")\n",
    "        "
   ]
  },
  {
   "cell_type": "markdown",
   "metadata": {},
   "source": [
    "Task 4:If a person skills has only JavaScript and React, print('He is a front end developer'), if the person skills has Node, Python, MongoDB, print('He is a backend developer'), if the person skills has React, Node and MongoDB, Print('He is a fullstack developer'), else print('unknown title') - for more accurate results more conditions can be nested!"
   ]
  },
  {
   "cell_type": "code",
   "execution_count": 18,
   "metadata": {},
   "outputs": [
    {
     "name": "stdout",
     "output_type": "stream",
     "text": [
      "He is a fullstack developer\n"
     ]
    }
   ],
   "source": [
    "if ('React' and 'Node' and 'MongoDB') in skill:\n",
    "    print('He is a fullstack developer') \n",
    "          \n",
    "elif ('JavaScript' and 'React') in skill:\n",
    "    print('He is a front end developer')\n",
    "    \n",
    "elif (\"Node\" and 'Python' and 'MongoDB') in skill:\n",
    "    print('He is a backend developer')\n",
    "\n",
    "else:\n",
    "    print('unknown title')"
   ]
  },
  {
   "cell_type": "markdown",
   "metadata": {},
   "source": [
    "Task 5:If the person is married and if he lives in Finland, print the information in the following format:"
   ]
  },
  {
   "cell_type": "code",
   "execution_count": 19,
   "metadata": {},
   "outputs": [
    {
     "name": "stdout",
     "output_type": "stream",
     "text": [
      "Asabeneh Yetayeh lives in Finland. He is married.\n"
     ]
    }
   ],
   "source": [
    "if (person['is_marred'] == True) and  (person['country'] == \"Finland\"):\n",
    "    print(\"Asabeneh Yetayeh lives in Finland. He is married.\")   "
   ]
  }
 ],
 "metadata": {
  "kernelspec": {
   "display_name": "ArewaDS",
   "language": "python",
   "name": "python3"
  },
  "language_info": {
   "codemirror_mode": {
    "name": "ipython",
    "version": 3
   },
   "file_extension": ".py",
   "mimetype": "text/x-python",
   "name": "python",
   "nbconvert_exporter": "python",
   "pygments_lexer": "ipython3",
   "version": "3.8.18"
  }
 },
 "nbformat": 4,
 "nbformat_minor": 2
}
