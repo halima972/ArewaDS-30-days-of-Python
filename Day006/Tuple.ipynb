{
 "cells": [
  {
   "cell_type": "markdown",
   "metadata": {},
   "source": [
    "# Exercises: Day 6"
   ]
  },
  {
   "cell_type": "markdown",
   "metadata": {},
   "source": [
    "## Exercises: Level 1"
   ]
  },
  {
   "cell_type": "markdown",
   "metadata": {},
   "source": [
    "Task 1:Create an empty tuple"
   ]
  },
  {
   "cell_type": "code",
   "execution_count": 2,
   "metadata": {},
   "outputs": [
    {
     "name": "stdout",
     "output_type": "stream",
     "text": [
      "()\n"
     ]
    }
   ],
   "source": [
    "empty_tuple = tuple()\n",
    "print(empty_tuple)"
   ]
  },
  {
   "cell_type": "markdown",
   "metadata": {},
   "source": [
    "Task 2:Create a tuple containing names of your sisters and your brothers (imaginary siblings are fine)"
   ]
  },
  {
   "cell_type": "code",
   "execution_count": 3,
   "metadata": {},
   "outputs": [
    {
     "name": "stdout",
     "output_type": "stream",
     "text": [
      "('Al-Ameen', 'Musa', 'Umar')\n",
      "('Sadiya', 'Fareeda', 'Hajara')\n"
     ]
    }
   ],
   "source": [
    "brothers = ('Al-Ameen', 'Musa', 'Umar')\n",
    "sisters = ('Sadiya', 'Fareeda', 'Hajara')\n",
    "print(brothers)\n",
    "print(sisters)"
   ]
  },
  {
   "cell_type": "markdown",
   "metadata": {},
   "source": [
    "Task 3:Join brothers and sisters tuples and assign it to siblings"
   ]
  },
  {
   "cell_type": "code",
   "execution_count": 4,
   "metadata": {},
   "outputs": [
    {
     "name": "stdout",
     "output_type": "stream",
     "text": [
      "('Al-Ameen', 'Musa', 'Umar', 'Sadiya', 'Fareeda', 'Hajara')\n"
     ]
    }
   ],
   "source": [
    "siblings = brothers + sisters\n",
    "print(siblings)"
   ]
  },
  {
   "cell_type": "markdown",
   "metadata": {},
   "source": [
    "Task 4:How many siblings do you have?\n"
   ]
  },
  {
   "cell_type": "code",
   "execution_count": 9,
   "metadata": {},
   "outputs": [
    {
     "name": "stdout",
     "output_type": "stream",
     "text": [
      "6\n"
     ]
    }
   ],
   "source": [
    "print(len(siblings))"
   ]
  },
  {
   "cell_type": "markdown",
   "metadata": {},
   "source": [
    "Task 5:    Modify the siblings tuple and add the name of your father and mother and assign it to family_members\n",
    "\n"
   ]
  },
  {
   "cell_type": "code",
   "execution_count": 14,
   "metadata": {},
   "outputs": [
    {
     "name": "stdout",
     "output_type": "stream",
     "text": [
      "['Al-Ameen', 'Musa', 'Umar', 'Sadiya', 'Fareeda', 'Hajara']\n",
      "['Al-Ameen', 'Musa', 'Umar', 'Sadiya', 'Fareeda', 'Hajara', 'Abdullahi', 'Maimunah']\n",
      "['Al-Ameen', 'Musa', 'Umar', 'Sadiya', 'Fareeda', 'Hajara', 'Abdullahi', 'Maimunah']\n"
     ]
    }
   ],
   "source": [
    "lst = list(siblings)\n",
    "print(lst)\n",
    "\n",
    "#to modify\n",
    "lst.append('Abdullahi')\n",
    "lst.append('Maimunah')\n",
    "print(lst)\n",
    "\n",
    "#to tuple\n",
    "family_members = list(lst)\n",
    "print(family_members)\n"
   ]
  },
  {
   "cell_type": "markdown",
   "metadata": {},
   "source": [
    "## Exercises: Level 2"
   ]
  },
  {
   "cell_type": "markdown",
   "metadata": {},
   "source": [
    "Task 1:Unpack siblings and parents from family_members"
   ]
  },
  {
   "cell_type": "code",
   "execution_count": 18,
   "metadata": {},
   "outputs": [
    {
     "name": "stdout",
     "output_type": "stream",
     "text": [
      "Al-Ameen\n",
      "Musa\n",
      "Umar\n",
      "Sadiya\n",
      "Fareeda\n",
      "Hajara\n",
      "['Abdullahi', 'Maimunah']\n"
     ]
    }
   ],
   "source": [
    "first, second, thrid, fourth, fifth, sixth ,*parents = family_members\n",
    "print(first)\n",
    "print(second)\n",
    "print(thrid)\n",
    "print(fourth)\n",
    "print(fifth)\n",
    "print(sixth)\n",
    "print(parents)"
   ]
  },
  {
   "cell_type": "markdown",
   "metadata": {},
   "source": [
    "Task 2:Create fruits, vegetables and animal products tuples. Join the three tuples and assign it to a variable called food_stuff_tp."
   ]
  },
  {
   "cell_type": "code",
   "execution_count": 19,
   "metadata": {},
   "outputs": [
    {
     "name": "stdout",
     "output_type": "stream",
     "text": [
      "('Pineapple', 'Coconut', 'Strawberry', 'Cherry', 'Mango', 'Spinach', 'Lettuce', 'Cabbage', 'Bitter leaf', 'Mint leaf', 'Monkey', 'Cat', 'Dog', 'Snake', 'Rat')\n"
     ]
    }
   ],
   "source": [
    "fruits = ('Pineapple', 'Coconut', 'Strawberry', 'Cherry','Mango')\n",
    "vegetables = ('Spinach', 'Lettuce', 'Cabbage', 'Bitter leaf', 'Mint leaf')\n",
    "animal = ('Monkey', 'Cat', 'Dog', 'Snake', 'Rat')\n",
    "\n",
    "#join\n",
    "food_stuff_tp = fruits + vegetables + animal\n",
    "print(food_stuff_tp)"
   ]
  },
  {
   "cell_type": "markdown",
   "metadata": {},
   "source": [
    "Task 3:Change the about food_stuff_tp tuple to a food_stuff_lt list"
   ]
  },
  {
   "cell_type": "code",
   "execution_count": 20,
   "metadata": {},
   "outputs": [
    {
     "name": "stdout",
     "output_type": "stream",
     "text": [
      "['Pineapple', 'Coconut', 'Strawberry', 'Cherry', 'Mango', 'Spinach', 'Lettuce', 'Cabbage', 'Bitter leaf', 'Mint leaf', 'Monkey', 'Cat', 'Dog', 'Snake', 'Rat']\n"
     ]
    }
   ],
   "source": [
    "food_stuff_lt = list(food_stuff_tp)\n",
    "print(food_stuff_lt)"
   ]
  },
  {
   "cell_type": "markdown",
   "metadata": {},
   "source": [
    "Task 4:Slice out the middle item or items from the food_stuff_tp tuple or food_stuff_lt list."
   ]
  },
  {
   "cell_type": "code",
   "execution_count": 22,
   "metadata": {},
   "outputs": [
    {
     "name": "stdout",
     "output_type": "stream",
     "text": [
      "15\n",
      "['Spinach', 'Lettuce', 'Cabbage', 'Bitter leaf', 'Mint leaf']\n"
     ]
    }
   ],
   "source": [
    "print(len(food_stuff_lt))\n",
    "food_slice = food_stuff_lt [5:10]\n",
    "print(food_slice) \n"
   ]
  },
  {
   "cell_type": "markdown",
   "metadata": {},
   "source": [
    "Task 5:Slice out the first three items and the last three items from food_staff_lt list"
   ]
  },
  {
   "cell_type": "code",
   "execution_count": 25,
   "metadata": {},
   "outputs": [
    {
     "name": "stdout",
     "output_type": "stream",
     "text": [
      "['Coconut', 'Strawberry', 'Cherry', 'Mango']\n",
      "['Mint leaf', 'Monkey', 'Cat', 'Dog', 'Snake']\n"
     ]
    }
   ],
   "source": [
    "#first slice\n",
    "first_slice = food_stuff_lt [1:5]\n",
    "print(first_slice)\n",
    "\n",
    "#second slice\n",
    "second_slice = food_stuff_lt [-6:-1]\n",
    "print(second_slice)"
   ]
  },
  {
   "cell_type": "markdown",
   "metadata": {},
   "source": [
    "Task 6:Delete the food_staff_tp tuple completely"
   ]
  },
  {
   "cell_type": "code",
   "execution_count": 26,
   "metadata": {},
   "outputs": [
    {
     "ename": "NameError",
     "evalue": "name 'food_stuff_tp' is not defined",
     "output_type": "error",
     "traceback": [
      "\u001b[0;31m---------------------------------------------------------------------------\u001b[0m",
      "\u001b[0;31mNameError\u001b[0m                                 Traceback (most recent call last)",
      "\u001b[1;32m/home/halima/Documents/arewa-ds-workspace/ArewaDS-30-days-of-Python/Day006/Tuple.ipynb Cell 25\u001b[0m line \u001b[0;36m2\n\u001b[1;32m      <a href='vscode-notebook-cell:/home/halima/Documents/arewa-ds-workspace/ArewaDS-30-days-of-Python/Day006/Tuple.ipynb#X36sZmlsZQ%3D%3D?line=0'>1</a>\u001b[0m \u001b[39mdel\u001b[39;00m food_stuff_tp\n\u001b[0;32m----> <a href='vscode-notebook-cell:/home/halima/Documents/arewa-ds-workspace/ArewaDS-30-days-of-Python/Day006/Tuple.ipynb#X36sZmlsZQ%3D%3D?line=1'>2</a>\u001b[0m \u001b[39mprint\u001b[39m(food_stuff_tp)\n",
      "\u001b[0;31mNameError\u001b[0m: name 'food_stuff_tp' is not defined"
     ]
    }
   ],
   "source": [
    "del food_stuff_tp\n",
    "print(food_stuff_tp)"
   ]
  },
  {
   "cell_type": "markdown",
   "metadata": {},
   "source": [
    "Task 7:Check if an item exists in tuple"
   ]
  },
  {
   "cell_type": "code",
   "execution_count": 28,
   "metadata": {},
   "outputs": [
    {
     "name": "stdout",
     "output_type": "stream",
     "text": [
      "False\n",
      "True\n"
     ]
    }
   ],
   "source": [
    "nordic_countries = ('Denmark', 'Finland','Iceland', 'Norway', 'Sweden')\n",
    "\n",
    "#Check if 'Estonia' is a nordic country\n",
    "print('Estonia' in nordic_countries)\n",
    "\n",
    "#Check if 'Iceland' is a nordic country\n",
    "print('Iceland' in nordic_countries)"
   ]
  }
 ],
 "metadata": {
  "kernelspec": {
   "display_name": "ArewaDS",
   "language": "python",
   "name": "python3"
  },
  "language_info": {
   "codemirror_mode": {
    "name": "ipython",
    "version": 3
   },
   "file_extension": ".py",
   "mimetype": "text/x-python",
   "name": "python",
   "nbconvert_exporter": "python",
   "pygments_lexer": "ipython3",
   "version": "3.8.18"
  }
 },
 "nbformat": 4,
 "nbformat_minor": 2
}
