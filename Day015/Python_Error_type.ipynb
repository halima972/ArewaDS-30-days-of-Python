{
 "cells": [
  {
   "cell_type": "code",
   "execution_count": null,
   "metadata": {},
   "outputs": [],
   "source": [
    "# Day 15: 30 days of Python programming\n",
    "# Open you python interactive shell and try all the examples covered in this section.\n",
    "\n",
    "# I Practised the different Error types on the Python interactive shell as instructed. The errors include:\n",
    "# 1. SyntaxError\n",
    "# 2. NameError\n",
    "# 3. IndexError\n",
    "# 4. ModuleNotFoundError\n",
    "# 5. AttributeError\n",
    "# 6. KeyError\n",
    "# 7. TypeError\n",
    "# 8. ImportError\n",
    "# 9. ValueError\n",
    "# 10. ZeroDivisionError"
   ]
  }
 ],
 "metadata": {
  "kernelspec": {
   "display_name": "ArewaDS",
   "language": "python",
   "name": "python3"
  },
  "language_info": {
   "name": "python",
   "version": "3.8.18"
  }
 },
 "nbformat": 4,
 "nbformat_minor": 2
}
