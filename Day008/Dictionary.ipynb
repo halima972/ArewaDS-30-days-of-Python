{
 "cells": [
  {
   "cell_type": "markdown",
   "metadata": {},
   "source": [
    "# Exercises: Day 8"
   ]
  },
  {
   "cell_type": "markdown",
   "metadata": {},
   "source": [
    "Task 1:Create an empty dictionary called dog"
   ]
  },
  {
   "cell_type": "code",
   "execution_count": 2,
   "metadata": {},
   "outputs": [],
   "source": [
    "dog = dict()"
   ]
  },
  {
   "cell_type": "markdown",
   "metadata": {},
   "source": [
    "Task 2:Add name, color, breed, legs, age to the dog dictionary"
   ]
  },
  {
   "cell_type": "code",
   "execution_count": 3,
   "metadata": {},
   "outputs": [
    {
     "name": "stdout",
     "output_type": "stream",
     "text": [
      "{'name': 'Jackie', 'color': 'Brown', 'breed': 'Golden Retriever', 'legs': '4 legs', 'age': 5}\n"
     ]
    }
   ],
   "source": [
    "dog['name'] = 'Jackie'\n",
    "dog['color'] = 'Brown'\n",
    "dog['breed'] = 'Golden Retriever'\n",
    "dog['legs'] ='4 legs'\n",
    "dog['age'] = 5\n",
    "print(dog)"
   ]
  },
  {
   "cell_type": "markdown",
   "metadata": {},
   "source": [
    "Task 3:Create a student dictionary and add first_name, last_name, gender, age, marital status, skills, country, city and address as keys for the dictionary"
   ]
  },
  {
   "cell_type": "code",
   "execution_count": 23,
   "metadata": {},
   "outputs": [
    {
     "name": "stdout",
     "output_type": "stream",
     "text": [
      "{'first_name:': 'Sadiya', 'last_name:': 'Ladan', 'Gender:': 'Female', 'age:': 20, 'marital_status:': 'None', 'skills': ['HTML', 'CSS', 'C++'], 'Country:': 'Nigeria', 'city:': 'Kaduna', 'address:': 'HH7 Jere street,unguwar sunusi,Kaduna'}\n"
     ]
    }
   ],
   "source": [
    "student = {'first_name:':'Sadiya', 'last_name:':'Ladan','Gender:':'Female','age:': 20,'marital_status:':'None','skills':['HTML','CSS','C++'],'Country:':'Nigeria','city:':'Kaduna','address:':'HH7 Jere street,unguwar sunusi,Kaduna'}\n",
    "print(student)"
   ]
  },
  {
   "cell_type": "markdown",
   "metadata": {},
   "source": [
    "Task 4:Get the length of the student dictionary"
   ]
  },
  {
   "cell_type": "code",
   "execution_count": 6,
   "metadata": {},
   "outputs": [
    {
     "name": "stdout",
     "output_type": "stream",
     "text": [
      "9\n"
     ]
    }
   ],
   "source": [
    "print(len(student))"
   ]
  },
  {
   "cell_type": "markdown",
   "metadata": {},
   "source": [
    "Task 5:Get the value of skills and check the data type, it should be a list"
   ]
  },
  {
   "cell_type": "code",
   "execution_count": 26,
   "metadata": {},
   "outputs": [
    {
     "name": "stdout",
     "output_type": "stream",
     "text": [
      "['HTML', 'CSS', 'C++']\n",
      "<class 'list'>\n"
     ]
    }
   ],
   "source": [
    "a = student['skills']\n",
    "print(a)\n",
    "print(type(a))"
   ]
  },
  {
   "cell_type": "markdown",
   "metadata": {},
   "source": [
    "Task 6:Modify the skills values by adding one or two skills"
   ]
  },
  {
   "cell_type": "code",
   "execution_count": 31,
   "metadata": {},
   "outputs": [
    {
     "name": "stdout",
     "output_type": "stream",
     "text": [
      "{'first_name:': 'Sadiya', 'last_name:': 'Ladan', 'Gender:': 'Female', 'age:': 20, 'marital_status:': 'None', 'skills': ['HTML', 'CSS', 'C++', 'Java', 'Java', 'Python'], 'Country:': 'Nigeria', 'city:': 'Kaduna', 'address:': 'HH7 Jere street,unguwar sunusi,Kaduna'}\n"
     ]
    }
   ],
   "source": [
    "a.append('Java')\n",
    "a.append('Python')\n",
    "print(student)"
   ]
  },
  {
   "cell_type": "markdown",
   "metadata": {},
   "source": [
    "Task 7:Get the dictionary keys as a list"
   ]
  },
  {
   "cell_type": "code",
   "execution_count": 32,
   "metadata": {},
   "outputs": [
    {
     "name": "stdout",
     "output_type": "stream",
     "text": [
      "dict_keys(['first_name:', 'last_name:', 'Gender:', 'age:', 'marital_status:', 'skills', 'Country:', 'city:', 'address:'])\n"
     ]
    }
   ],
   "source": [
    "print(student.keys())"
   ]
  },
  {
   "cell_type": "markdown",
   "metadata": {},
   "source": [
    "Task 8:Get the dictionary values as a list"
   ]
  },
  {
   "cell_type": "code",
   "execution_count": 33,
   "metadata": {},
   "outputs": [
    {
     "name": "stdout",
     "output_type": "stream",
     "text": [
      "dict_values(['Sadiya', 'Ladan', 'Female', 20, 'None', ['HTML', 'CSS', 'C++', 'Java', 'Java', 'Python'], 'Nigeria', 'Kaduna', 'HH7 Jere street,unguwar sunusi,Kaduna'])\n"
     ]
    }
   ],
   "source": [
    "print(student.values())"
   ]
  },
  {
   "cell_type": "markdown",
   "metadata": {},
   "source": [
    "Task 9:Change the dictionary to a list of tuples using items() method"
   ]
  },
  {
   "cell_type": "code",
   "execution_count": 34,
   "metadata": {},
   "outputs": [
    {
     "name": "stdout",
     "output_type": "stream",
     "text": [
      "dict_items([('first_name:', 'Sadiya'), ('last_name:', 'Ladan'), ('Gender:', 'Female'), ('age:', 20), ('marital_status:', 'None'), ('skills', ['HTML', 'CSS', 'C++', 'Java', 'Java', 'Python']), ('Country:', 'Nigeria'), ('city:', 'Kaduna'), ('address:', 'HH7 Jere street,unguwar sunusi,Kaduna')])\n"
     ]
    }
   ],
   "source": [
    "print(student.items())"
   ]
  },
  {
   "cell_type": "markdown",
   "metadata": {},
   "source": [
    "Task 10:Delete one of the items in the dictionary"
   ]
  },
  {
   "cell_type": "code",
   "execution_count": 38,
   "metadata": {},
   "outputs": [
    {
     "name": "stdout",
     "output_type": "stream",
     "text": [
      "{'first_name:': 'Sadiya', 'last_name:': 'Ladan', 'Gender:': 'Female', 'marital_status:': 'None', 'skills': ['HTML', 'CSS', 'C++', 'Java', 'Java', 'Python'], 'Country:': 'Nigeria', 'city:': 'Kaduna', 'address:': 'HH7 Jere street,unguwar sunusi,Kaduna'}\n"
     ]
    }
   ],
   "source": [
    "student.pop('age:')\n",
    "print(student)"
   ]
  },
  {
   "cell_type": "markdown",
   "metadata": {},
   "source": [
    "Task 11:Delete one of the dictionaries"
   ]
  },
  {
   "cell_type": "code",
   "execution_count": 39,
   "metadata": {},
   "outputs": [],
   "source": [
    "del dog"
   ]
  }
 ],
 "metadata": {
  "kernelspec": {
   "display_name": "ArewaDS",
   "language": "python",
   "name": "python3"
  },
  "language_info": {
   "codemirror_mode": {
    "name": "ipython",
    "version": 3
   },
   "file_extension": ".py",
   "mimetype": "text/x-python",
   "name": "python",
   "nbconvert_exporter": "python",
   "pygments_lexer": "ipython3",
   "version": "3.8.18"
  }
 },
 "nbformat": 4,
 "nbformat_minor": 2
}
