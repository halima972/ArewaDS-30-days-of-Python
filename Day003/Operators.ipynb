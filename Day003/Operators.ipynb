{
 "cells": [
  {
   "cell_type": "markdown",
   "metadata": {},
   "source": [
    "Assignment Day003"
   ]
  },
  {
   "cell_type": "markdown",
   "metadata": {},
   "source": [
    "Exercises - Day 3"
   ]
  },
  {
   "cell_type": "markdown",
   "metadata": {},
   "source": [
    "Task 1:Declare your age as integer variable\n"
   ]
  },
  {
   "cell_type": "markdown",
   "metadata": {},
   "source": [
    "Task 2:Declare your height as a float variable\n"
   ]
  },
  {
   "cell_type": "markdown",
   "metadata": {},
   "source": [
    "Task 3:Declare a variable that store a complex number"
   ]
  },
  {
   "cell_type": "code",
   "execution_count": 1,
   "metadata": {},
   "outputs": [
    {
     "name": "stdout",
     "output_type": "stream",
     "text": [
      "50\n",
      "16.8\n",
      "(5+10j)\n"
     ]
    }
   ],
   "source": [
    "##Task 1\n",
    "age = 50\n",
    "print(age)\n",
    "\n",
    "##Task 2\n",
    "height = 16.8\n",
    "print(height)\n",
    "\n",
    "##Task 3\n",
    "comp = 5+10j\n",
    "print(comp)"
   ]
  },
  {
   "cell_type": "markdown",
   "metadata": {},
   "source": [
    "Task 4:Calculate an area of this triangle"
   ]
  },
  {
   "cell_type": "code",
   "execution_count": 6,
   "metadata": {},
   "outputs": [
    {
     "name": "stdout",
     "output_type": "stream",
     "text": [
      "Enter base: 20\n",
      "Enter height 10\n",
      "The area of the triangle is: 100.0\n"
     ]
    }
   ],
   "source": [
    "base = int(input('Enter the base:'))\n",
    "print('Enter base:', base)\n",
    "height = int(input('Enter the height:'))\n",
    "print('Enter height', height)\n",
    "\n",
    "##area of the triangle\n",
    "Area = 0.5*base*height\n",
    "print('The area of the triangle is:', Area)"
   ]
  },
  {
   "cell_type": "markdown",
   "metadata": {},
   "source": [
    "Task 5:Calculate the perimeter of the triangle"
   ]
  },
  {
   "cell_type": "code",
   "execution_count": 8,
   "metadata": {},
   "outputs": [
    {
     "name": "stdout",
     "output_type": "stream",
     "text": [
      "Enter side a: 5\n",
      "Enter side b: 4\n",
      "Enter side c: 3\n",
      "The perimeter of the triangle is: 12\n"
     ]
    }
   ],
   "source": [
    "side_a = int(input('Enter side a:'))\n",
    "print('Enter side a:',side_a)\n",
    "side_b = int(input('Enter side b:'))\n",
    "print('Enter side b:',side_b)\n",
    "side_c = int(input('Enter side c:'))\n",
    "print('Enter side c:',side_c)\n",
    "\n",
    "##perimeter of the triangle\n",
    "perimeter = side_a + side_b + side_c\n",
    "print('The perimeter of the triangle is:', perimeter)"
   ]
  },
  {
   "cell_type": "markdown",
   "metadata": {},
   "source": [
    "Task 6:Calculate area and perimeter"
   ]
  },
  {
   "cell_type": "code",
   "execution_count": 9,
   "metadata": {},
   "outputs": [
    {
     "name": "stdout",
     "output_type": "stream",
     "text": [
      "Enter the Length: 35\n",
      "Enter the width: 60\n",
      "The area is: 2100\n",
      "The perimeter is: 4200\n"
     ]
    }
   ],
   "source": [
    "length = int(input('Enter the Length:'))\n",
    "print('Enter the Length:', length)\n",
    "width = int(input('Enter the Width:'))\n",
    "print('Enter the width:', width)\n",
    "\n",
    "##Calculate the area\n",
    "area = length * width\n",
    "print('The area is:', area)\n",
    "\n",
    "##calculate the perimeter\n",
    "perimeter = 2 * (length * width)\n",
    "print('The perimeter is:', perimeter)"
   ]
  },
  {
   "cell_type": "markdown",
   "metadata": {},
   "source": [
    "Task 7: Calculate for a Circle"
   ]
  },
  {
   "cell_type": "code",
   "execution_count": 10,
   "metadata": {},
   "outputs": [
    {
     "name": "stdout",
     "output_type": "stream",
     "text": [
      "Enter the radius: 40\n",
      "The area of the cricle is: 5024.0\n",
      "The cricumference of the cricle is: 251.20000000000002\n"
     ]
    }
   ],
   "source": [
    "pi = 3.14\n",
    "radius = int(input('Enter the radius'))\n",
    "print('Enter the radius:',radius)\n",
    "\n",
    "##calculate the area\n",
    "Area = pi*radius*radius\n",
    "print('The area of the cricle is:', Area)\n",
    "\n",
    "##calculate the circumference\n",
    "cricumference = 2*pi*radius\n",
    "print('The cricumference of the cricle is:', cricumference)"
   ]
  },
  {
   "cell_type": "markdown",
   "metadata": {},
   "source": [
    "Task 8:Calculate the Slope"
   ]
  },
  {
   "cell_type": "code",
   "execution_count": 1,
   "metadata": {},
   "outputs": [
    {
     "name": "stdout",
     "output_type": "stream",
     "text": [
      "The slope of equation is: 2\n",
      "The y-intercept of the equation is: -2\n",
      "The x_intercept of the equation is: 0\n"
     ]
    }
   ],
   "source": [
    "##the x-intercept and the y-intercept is y = 2x-2\n",
    "\n",
    "#Using the slope formular, y=mx+c. The slope is the coffiecient of X.\n",
    "slope_m =2\n",
    "print('The slope of equation is:' ,slope_m)\n",
    "#The y-intercept is the constant value on the equation i.e c\n",
    "y_intercept = -2\n",
    "print ('The y-intercept of the equation is:', y_intercept)\n",
    "#The x-intercept\n",
    "x_intercept = 2 + (-2)\n",
    "print('The x_intercept of the equation is:', x_intercept)"
   ]
  },
  {
   "cell_type": "markdown",
   "metadata": {},
   "source": [
    "Task 9:Find the slope and Euclidean distance "
   ]
  },
  {
   "cell_type": "code",
   "execution_count": 6,
   "metadata": {},
   "outputs": [
    {
     "name": "stdout",
     "output_type": "stream",
     "text": [
      "The slope is: 2\n",
      "The Euclidean Distance is: 16\n"
     ]
    }
   ],
   "source": [
    "#To calculate the slope\n",
    "slope = int((10-2) / (6-2))\n",
    "print('The slope is:', slope)\n",
    "\n",
    "#To calculate the Euclidean Distance\n",
    "Euclidean = int((2-2)**2 + (6-10)**2)\n",
    "print('The Euclidean Distance is:', Euclidean)"
   ]
  },
  {
   "cell_type": "markdown",
   "metadata": {},
   "source": [
    "Task 10:Compare the slopes in tasks 8 and 9."
   ]
  },
  {
   "cell_type": "code",
   "execution_count": 21,
   "metadata": {},
   "outputs": [
    {
     "name": "stdout",
     "output_type": "stream",
     "text": [
      "True\n"
     ]
    }
   ],
   "source": [
    "print(slope_m >= slope)"
   ]
  },
  {
   "cell_type": "markdown",
   "metadata": {},
   "source": [
    "Task 11:Solve the equation"
   ]
  },
  {
   "cell_type": "code",
   "execution_count": 18,
   "metadata": {},
   "outputs": [
    {
     "name": "stdout",
     "output_type": "stream",
     "text": [
      "The answer is: -18\n"
     ]
    }
   ],
   "source": [
    "#The equation is (y = x^2 + 6x + 9). To make y to be equal to 0, We have to subtitute -3 to every place that x appear\n",
    "y = (-3**2)+6*(-3)+9\n",
    "print('The answer is:',y) "
   ]
  },
  {
   "cell_type": "markdown",
   "metadata": {},
   "source": [
    "Task 12: Find the length"
   ]
  },
  {
   "cell_type": "code",
   "execution_count": 24,
   "metadata": {},
   "outputs": [
    {
     "name": "stdout",
     "output_type": "stream",
     "text": [
      "False\n"
     ]
    }
   ],
   "source": [
    "word_a =len('python')\n",
    "word_b =len('dragon')\n",
    "\n",
    "#Comparision\n",
    "print(not(word_a == word_b))\n"
   ]
  },
  {
   "cell_type": "markdown",
   "metadata": {},
   "source": [
    "Task 13:Use and Operator"
   ]
  },
  {
   "cell_type": "code",
   "execution_count": 25,
   "metadata": {},
   "outputs": [
    {
     "name": "stdout",
     "output_type": "stream",
     "text": [
      "True\n"
     ]
    }
   ],
   "source": [
    "print('on' in 'python' and 'on' in 'dragon')"
   ]
  },
  {
   "cell_type": "markdown",
   "metadata": {},
   "source": [
    "Task 14: Use in Operator"
   ]
  },
  {
   "cell_type": "code",
   "execution_count": 26,
   "metadata": {},
   "outputs": [
    {
     "name": "stdout",
     "output_type": "stream",
     "text": [
      "True\n"
     ]
    }
   ],
   "source": [
    "print('jargon' in 'I hope this course is not full of jargon.')"
   ]
  },
  {
   "cell_type": "markdown",
   "metadata": {},
   "source": [
    "Task 15"
   ]
  },
  {
   "cell_type": "code",
   "execution_count": 27,
   "metadata": {},
   "outputs": [
    {
     "name": "stdout",
     "output_type": "stream",
     "text": [
      "True\n"
     ]
    }
   ],
   "source": [
    "print('on' in 'python' and 'on' in 'dragon')"
   ]
  },
  {
   "cell_type": "markdown",
   "metadata": {},
   "source": [
    "Task 16:Find the length"
   ]
  },
  {
   "cell_type": "code",
   "execution_count": 30,
   "metadata": {},
   "outputs": [
    {
     "name": "stdout",
     "output_type": "stream",
     "text": [
      "6\n",
      "6.0\n",
      "6\n"
     ]
    }
   ],
   "source": [
    "word = len('python')\n",
    "print(word)\n",
    "print(float(word))\n",
    "print(str(word))\n"
   ]
  },
  {
   "cell_type": "markdown",
   "metadata": {},
   "source": [
    "Task 17:Even number"
   ]
  },
  {
   "cell_type": "code",
   "execution_count": 32,
   "metadata": {},
   "outputs": [
    {
     "name": "stdout",
     "output_type": "stream",
     "text": [
      "0 ,Therefore, 10 an even number\n"
     ]
    }
   ],
   "source": [
    "#how to check an even number\n",
    "num = 10%2\n",
    "print(num, ',Therefore, 10 an even number')"
   ]
  },
  {
   "cell_type": "markdown",
   "metadata": {},
   "source": [
    "Task 18: Check the floor division"
   ]
  },
  {
   "cell_type": "code",
   "execution_count": 36,
   "metadata": {},
   "outputs": [
    {
     "name": "stdout",
     "output_type": "stream",
     "text": [
      "2\n",
      "False\n"
     ]
    }
   ],
   "source": [
    "num2 = int(7//3)\n",
    "print(num2)\n",
    "print(num2 == 2.7)"
   ]
  },
  {
   "cell_type": "markdown",
   "metadata": {},
   "source": [
    "Task 19 & 20:Check type()"
   ]
  },
  {
   "cell_type": "code",
   "execution_count": 42,
   "metadata": {},
   "outputs": [
    {
     "name": "stdout",
     "output_type": "stream",
     "text": [
      "<class 'int'>\n",
      "True\n",
      "True\n"
     ]
    }
   ],
   "source": [
    "num3 = 10\n",
    "print(type(10))\n",
    "print(type(num3) == type(10))\n",
    "\n",
    "#Task 20\n",
    "num4 = int(9.8)\n",
    "print(type(num4) == type(num3))"
   ]
  },
  {
   "cell_type": "markdown",
   "metadata": {},
   "source": [
    "Task 21:Calculate pay of a person"
   ]
  },
  {
   "cell_type": "code",
   "execution_count": 44,
   "metadata": {},
   "outputs": [
    {
     "name": "stdout",
     "output_type": "stream",
     "text": [
      "Enter the Hours: 50\n",
      "Enter the rate: 60\n",
      "The pay of the employee is: 3000\n"
     ]
    }
   ],
   "source": [
    "hours = int(input('Enter the hours:'))\n",
    "print('Enter the Hours:', hours)\n",
    "rate = int(input('Enter the rate:'))\n",
    "print('Enter the rate:', rate)\n",
    "\n",
    "pay = hours * rate\n",
    "print('The pay of the employee is:', pay)"
   ]
  },
  {
   "cell_type": "markdown",
   "metadata": {},
   "source": [
    "Task 21:Calculate number of Seconds"
   ]
  },
  {
   "cell_type": "code",
   "execution_count": 45,
   "metadata": {},
   "outputs": [
    {
     "name": "stdout",
     "output_type": "stream",
     "text": [
      "You have lived for 630720000 seconds\n"
     ]
    }
   ],
   "source": [
    "your_age = int(input('Enter your age:'))\n",
    "num_of_years = 365\n",
    "num_of_hours = 24\n",
    "num_of_minutes = 60\n",
    "num_of_seconds = 60\n",
    "\n",
    "#number of seconds\n",
    "seconds = your_age * num_of_seconds * num_of_hours * num_of_years * num_of_minutes\n",
    "print('You have lived for',seconds,'seconds')"
   ]
  },
  {
   "cell_type": "markdown",
   "metadata": {},
   "source": [
    "Task 22"
   ]
  },
  {
   "cell_type": "code",
   "execution_count": 53,
   "metadata": {},
   "outputs": [
    {
     "name": "stdout",
     "output_type": "stream",
     "text": [
      "(1, 1, 1, 1, 1)\n",
      "(2, 1, 2, 4, 8)\n",
      "(3, 1, 3, 9, 27)\n",
      "(4, 1, 4, 16, 64)\n",
      "(5, 1, 5, 25, 125)\n"
     ]
    }
   ],
   "source": [
    "set_of_number = (1, 1, 1, 1, 1)\n",
    "set_of_number2 = (2, 1, 2, 4, 8)\n",
    "set_of_number3 = (3, 1, 3, 9, 27)\n",
    "set_of_number4 = (4, 1, 4, 16, 64)\n",
    "set_of_number5 = (5, 1, 5, 25, 125)\n",
    "\n",
    "print(set_of_number)\n",
    "print(set_of_number2)\n",
    "print(set_of_number3)\n",
    "print(set_of_number4)\n",
    "print(set_of_number5)"
   ]
  }
 ],
 "metadata": {
  "kernelspec": {
   "display_name": "ArewaDS",
   "language": "python",
   "name": "python3"
  },
  "language_info": {
   "codemirror_mode": {
    "name": "ipython",
    "version": 3
   },
   "file_extension": ".py",
   "mimetype": "text/x-python",
   "name": "python",
   "nbconvert_exporter": "python",
   "pygments_lexer": "ipython3",
   "version": "3.8.18"
  }
 },
 "nbformat": 4,
 "nbformat_minor": 2
}
