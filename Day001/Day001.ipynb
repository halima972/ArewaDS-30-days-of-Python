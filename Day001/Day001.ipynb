{
 "cells": [
  {
   "cell_type": "markdown",
   "metadata": {},
   "source": [
    "Day001 Assignment001"
   ]
  },
  {
   "cell_type": "markdown",
   "metadata": {},
   "source": [
    "Excercise level 2"
   ]
  },
  {
   "cell_type": "markdown",
   "metadata": {},
   "source": [
    "Task 1: Check the Python version"
   ]
  },
  {
   "cell_type": "code",
   "execution_count": 2,
   "metadata": {},
   "outputs": [
    {
     "name": "stderr",
     "output_type": "stream",
     "text": [
      "273.65s - pydevd: Sending message related to process being replaced timed-out after 5 seconds\n"
     ]
    },
    {
     "name": "stdout",
     "output_type": "stream",
     "text": [
      "Python 3.8.18\n"
     ]
    }
   ],
   "source": [
    "!python --version"
   ]
  },
  {
   "cell_type": "markdown",
   "metadata": {},
   "source": [
    "Task 2: Do some Calculations on python with number 3 and 4"
   ]
  },
  {
   "cell_type": "code",
   "execution_count": 4,
   "metadata": {},
   "outputs": [
    {
     "name": "stdout",
     "output_type": "stream",
     "text": [
      "7\n",
      "-1\n",
      "12\n",
      "3\n",
      "0.75\n",
      "81\n",
      "0\n"
     ]
    }
   ],
   "source": [
    "print(3+4)\n",
    "print(3-4)\n",
    "print(3*4)\n",
    "print(3%4)\n",
    "print(3/4)\n",
    "print(3**4)\n",
    "print(3//4)"
   ]
  },
  {
   "cell_type": "markdown",
   "metadata": {},
   "source": [
    "Task 3: Writing Strings in Python"
   ]
  },
  {
   "cell_type": "code",
   "execution_count": 6,
   "metadata": {},
   "outputs": [
    {
     "name": "stdout",
     "output_type": "stream",
     "text": [
      "Your name:Sadiya Abdullahi Ladan\n",
      "Your family name:Ladan\n",
      "Your country: Nigeria\n",
      "I am enjoying 30 days of python\n"
     ]
    }
   ],
   "source": [
    "print('Your name:Sadiya Abdullahi Ladan')\n",
    "print('Your family name:Ladan')\n",
    "print('Your country: Nigeria')\n",
    "print('I am enjoying 30 days of python')"
   ]
  },
  {
   "cell_type": "markdown",
   "metadata": {},
   "source": [
    "Task 4:Checking the Datatypes of the Following"
   ]
  },
  {
   "cell_type": "code",
   "execution_count": 9,
   "metadata": {
    "tags": [
     "parameters"
    ]
   },
   "outputs": [
    {
     "name": "stdout",
     "output_type": "stream",
     "text": [
      "<class 'int'>\n",
      "<class 'float'>\n",
      "<class 'float'>\n",
      "<class 'complex'>\n",
      "<class 'list'>\n",
      "<class 'str'>\n",
      "<class 'str'>\n",
      "<class 'str'>\n"
     ]
    }
   ],
   "source": [
    "print(type(10))\n",
    "print(type(9.8))\n",
    "print(type(3.14))\n",
    "print(type(4 - 4j))\n",
    "print(type(['Asabeneh', 'Python', 'Finland']))\n",
    "print(type('Sadiya Ladan'))\n",
    "print(type('Ladan'))\n",
    "print(type('Nigeria'))"
   ]
  },
  {
   "cell_type": "markdown",
   "metadata": {},
   "source": [
    "Exercise: Level 3"
   ]
  },
  {
   "cell_type": "markdown",
   "metadata": {},
   "source": [
    "Task 5:Writing different Data Types"
   ]
  },
  {
   "cell_type": "code",
   "execution_count": 25,
   "metadata": {},
   "outputs": [
    {
     "name": "stdout",
     "output_type": "stream",
     "text": [
      "5678\n",
      "4.89\n",
      "(7-9j)\n",
      "i love to code\n",
      "True\n",
      "['Lipton', 'Toptea', 'Ahmad Tea', 'Akbar', 'Z&Y Tea']\n",
      "('Samsung', 'Nokia', 'Iphone', 'Redmi', 'Tehno', 'Itel')\n",
      "{100, 70, 40, 10, 80, 50, 20, 90, 60, 30}\n",
      "{'first_name': 'Sadiya Ladan', 'middle_name': 'Abdullahi', 'sex': 'F', 'Qualification': 'Diploma in Computer science', 'Height': 10.4}\n"
     ]
    }
   ],
   "source": [
    "print(5678)\n",
    "print(4.890)\n",
    "print(7-9j)\n",
    "print('i love to code')\n",
    "print(True)\n",
    "print(['Lipton','Toptea','Ahmad Tea','Akbar','Z&Y Tea']) #Tea\n",
    "print(('Samsung','Nokia','Iphone','Redmi','Tehno','Itel')) #Phones\n",
    "print({10,20,30,40,50,60,70,80,90,100})\n",
    "print({\n",
    "    'first_name':'Sadiya Ladan',\n",
    "    'middle_name':'Abdullahi',\n",
    "    'sex':'F',\n",
    "    'Qualification':'Diploma in Computer science',\n",
    "    'Height':10.4,\n",
    "})\n"
   ]
  },
  {
   "cell_type": "markdown",
   "metadata": {},
   "source": [
    "Task 5: Calculate the Euclidean Distance of (2,3) and (10,8)"
   ]
  },
  {
   "cell_type": "code",
   "execution_count": 30,
   "metadata": {},
   "outputs": [
    {
     "name": "stdout",
     "output_type": "stream",
     "text": [
      "-3\n"
     ]
    }
   ],
   "source": [
    "# Using the formula d(a,b)^2 = (q-s)^2 + (q-s)^2\n",
    "a = (2-3)^2\n",
    "b = (10-8)^2\n",
    "Answer = a+b\n",
    "print (Answer)"
   ]
  }
 ],
 "metadata": {
  "kernelspec": {
   "display_name": "ArewaDS",
   "language": "python",
   "name": "python3"
  },
  "language_info": {
   "codemirror_mode": {
    "name": "ipython",
    "version": 3
   },
   "file_extension": ".py",
   "mimetype": "text/x-python",
   "name": "python",
   "nbconvert_exporter": "python",
   "pygments_lexer": "ipython3",
   "version": "3.8.18"
  }
 },
 "nbformat": 4,
 "nbformat_minor": 2
}
