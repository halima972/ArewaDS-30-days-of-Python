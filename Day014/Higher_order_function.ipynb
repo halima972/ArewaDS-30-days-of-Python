{
 "cells": [
  {
   "cell_type": "markdown",
   "metadata": {},
   "source": [
    "# Exercises: Day 14"
   ]
  },
  {
   "cell_type": "code",
   "execution_count": 1,
   "metadata": {},
   "outputs": [],
   "source": [
    "# Exercises: Level 1\n",
    "countries = ['Estonia', 'Finland', 'Sweden', 'Denmark', 'Norway', 'Iceland']\n",
    "names = ['Asabeneh', 'Lidiya', 'Ermias', 'Abraham']\n",
    "numbers = [1, 2, 3, 4, 5, 6, 7, 8, 9, 10]\n"
   ]
  },
  {
   "cell_type": "code",
   "execution_count": 2,
   "metadata": {},
   "outputs": [],
   "source": [
    "# Explain the difference between map, filter, and reduce.\n",
    "\n",
    "# Map ,filter and reduce bring some form of functional programming to python. \n",
    "# All three functions take a function as the first argument and an iterable as the second argument of the function.\n",
    "# map and filter return an iterable, eg a list , though it actually returns a map object that can be cast into a list. \n",
    "# map calls the function in the first argument and returns the result of the function for each of the elements in the iterable.\n",
    "# Filter on the other hand, only returns elements that satisfies the condition in the function argument. \n",
    "# reduce is a bit different as it returns a single answer i.e. it reduces the iterable to a single answer.\n",
    "# It should be noted that map and filter functions return map objects and filter objects respectively.\n",
    "# Printing map and filter objects without casting to a list will give the memory location of the object."
   ]
  },
  {
   "cell_type": "code",
   "execution_count": 3,
   "metadata": {},
   "outputs": [],
   "source": [
    "# Explain the difference between higher order function, closure and decorator\n",
    "# A higher order function is a function that either takes in a function as a parameter or returns a function or both.\n",
    "# Decorators and closures are all higher order functions. \n",
    "# Decorators return a closure and A closure is what is returned by a decorator.\n",
    "# Closures are used to preserve outer scope inside an inner scope,making variables act like they are private. \n",
    "# Decorators are convenient ways to make changes to the functionality of code without making changes to the code. \n",
    "# A decorator is written as a function closure\n",
    "# and implemented by giving the @ operator on top of the function."
   ]
  },
  {
   "cell_type": "code",
   "execution_count": 4,
   "metadata": {},
   "outputs": [
    {
     "name": "stdout",
     "output_type": "stream",
     "text": [
      "[1, 4, 9, 16, 25]\n"
     ]
    }
   ],
   "source": [
    "# Define a call function before map, filter or reduce, see examples.\n",
    "# Example with map\n",
    "def square(x):\n",
    "    return x * x\n",
    "\n",
    "# List of numbers\n",
    "numbers = [1, 2, 3, 4, 5]\n",
    "\n",
    "# Use the function with map\n",
    "squared_numbers = list(map(square, numbers))\n",
    "print(squared_numbers)\n",
    "\n",
    "# Example with filter\n",
    "def is_even(x):\n",
    "    return x % 2 == 0\n",
    "\n",
    "# List of numbers\n",
    "numbers = [1, 2, 3, 4, 5, 6, 7, 8, 9, 10]"
   ]
  },
  {
   "cell_type": "code",
   "execution_count": 5,
   "metadata": {},
   "outputs": [
    {
     "name": "stdout",
     "output_type": "stream",
     "text": [
      "[2, 4, 6, 8, 10]\n"
     ]
    }
   ],
   "source": [
    "# Use the function with filter\n",
    "even_numbers = list(filter(is_even, numbers))\n",
    "print(even_numbers)"
   ]
  },
  {
   "cell_type": "code",
   "execution_count": 6,
   "metadata": {},
   "outputs": [
    {
     "name": "stdout",
     "output_type": "stream",
     "text": [
      "Estonia\n",
      "Finland\n",
      "Sweden\n",
      "Denmark\n",
      "Norway\n",
      "Iceland\n"
     ]
    }
   ],
   "source": [
    "# Use for loop to print each country in the countries list.\n",
    "for country in countries:\n",
    "    print(country)"
   ]
  },
  {
   "cell_type": "code",
   "execution_count": 7,
   "metadata": {},
   "outputs": [
    {
     "name": "stdout",
     "output_type": "stream",
     "text": [
      "Asabeneh\n",
      "Lidiya\n",
      "Ermias\n",
      "Abraham\n"
     ]
    }
   ],
   "source": [
    "# Use for to print each name in the names list.\n",
    "for name in names:\n",
    "    print(name)"
   ]
  },
  {
   "cell_type": "code",
   "execution_count": 8,
   "metadata": {},
   "outputs": [
    {
     "name": "stdout",
     "output_type": "stream",
     "text": [
      "1\n",
      "2\n",
      "3\n",
      "4\n",
      "5\n",
      "6\n",
      "7\n",
      "8\n",
      "9\n",
      "10\n"
     ]
    }
   ],
   "source": [
    "# Use for to print each number in the numbers list.\n",
    "for number in numbers:\n",
    "    print(number)"
   ]
  },
  {
   "cell_type": "markdown",
   "metadata": {},
   "source": [
    "## Exercise level 2"
   ]
  },
  {
   "cell_type": "code",
   "execution_count": 9,
   "metadata": {},
   "outputs": [
    {
     "name": "stdout",
     "output_type": "stream",
     "text": [
      "countries in upper case: ['ESTONIA', 'FINLAND', 'SWEDEN', 'DENMARK', 'NORWAY', 'ICELAND'] \n"
     ]
    }
   ],
   "source": [
    "#Use map to create a new list by changing each country to uppercase in the countries list\n",
    "upper_case_countries = list(map(lambda x:x.upper(),countries))\n",
    "print(f'countries in upper case: {upper_case_countries} ')"
   ]
  },
  {
   "cell_type": "code",
   "execution_count": 10,
   "metadata": {},
   "outputs": [
    {
     "name": "stdout",
     "output_type": "stream",
     "text": [
      "The square of the numbers: [1, 4, 9, 16, 25, 36, 49, 64, 81, 100] \n"
     ]
    }
   ],
   "source": [
    "# Use map to create a new list by changing each number to its square in the numbers list\n",
    "squared_numbers = list(map(lambda x:x**2,numbers))\n",
    "print(f'The square of the numbers: {squared_numbers} ')"
   ]
  },
  {
   "cell_type": "code",
   "execution_count": null,
   "metadata": {},
   "outputs": [],
   "source": [
    "# Use map to change each name to uppercase in the names list\n",
    "upper_case_names = list(map(lambda x:x.upper(),names))\n",
    "print(f'Uppercase of the names: {upper_case_names} ')"
   ]
  },
  {
   "cell_type": "code",
   "execution_count": 11,
   "metadata": {},
   "outputs": [
    {
     "name": "stdout",
     "output_type": "stream",
     "text": [
      " The countries with land in their name: ['Finland', 'Iceland']\n"
     ]
    }
   ],
   "source": [
    "# Use filter to filter out countries containing 'land'.\n",
    "contains_land = list(filter(lambda x:'land' in x,countries))\n",
    "print(f' The countries with land in their name: {contains_land}')\n"
   ]
  },
  {
   "cell_type": "code",
   "execution_count": 12,
   "metadata": {},
   "outputs": [
    {
     "name": "stdout",
     "output_type": "stream",
     "text": [
      "The countries with six characters: ['Sweden', 'Norway'] \n"
     ]
    }
   ],
   "source": [
    "# Use filter to filter out countries having exactly six characters.\n",
    "six_chars = list(filter(lambda x:len(x)==6,countries))\n",
    "print(f'The countries with six characters: {six_chars} ')"
   ]
  },
  {
   "cell_type": "code",
   "execution_count": 13,
   "metadata": {},
   "outputs": [
    {
     "name": "stdout",
     "output_type": "stream",
     "text": [
      "Countries with six or more characters in their names: ['Estonia', 'Finland', 'Sweden', 'Denmark', 'Norway', 'Iceland'] \n"
     ]
    }
   ],
   "source": [
    "# Use filter to filter out countries containing six letters and more in the country list.\n",
    "six_or_more_chars = list(filter(lambda x:len(x) >= 6,countries))\n",
    "print(f'Countries with six or more characters in their names: {six_or_more_chars} ')"
   ]
  },
  {
   "cell_type": "code",
   "execution_count": 14,
   "metadata": {},
   "outputs": [
    {
     "name": "stdout",
     "output_type": "stream",
     "text": [
      " Countries starting with E in the list are: ['Estonia']\n"
     ]
    }
   ],
   "source": [
    "# Use filter to filter out countries starting with an 'E'\n",
    "starting_with_e = list(filter(lambda x:x.startswith('E'),countries))\n",
    "print(f' Countries starting with E in the list are: {starting_with_e}')"
   ]
  },
  {
   "cell_type": "code",
   "execution_count": 15,
   "metadata": {},
   "outputs": [
    {
     "name": "stdout",
     "output_type": "stream",
     "text": [
      "264\n"
     ]
    }
   ],
   "source": [
    "# Chain two or more list iterators (eg. arr.map(callback).filter(callback).reduce(callback))\n",
    "from functools import reduce\n",
    "\n",
    "numbers = [3, 5, 8, 2, 14]\n",
    "squared_even_numbers_sum = reduce(lambda x, y: x + y, \n",
    "                                   list(filter(lambda x: x % 2 == 0, \n",
    "                                                map(lambda x: x**2, numbers))))\n",
    "print(squared_even_numbers_sum)"
   ]
  },
  {
   "cell_type": "code",
   "execution_count": 16,
   "metadata": {},
   "outputs": [],
   "source": [
    "# Declare a function called get_string_lists which takes a list as a parameter and then returns a list containing only string items.\n",
    "def get_string_lists(input_list):\n",
    "    return [item for item in input_list if isinstance(item, str)]"
   ]
  },
  {
   "cell_type": "code",
   "execution_count": 17,
   "metadata": {},
   "outputs": [
    {
     "name": "stdout",
     "output_type": "stream",
     "text": [
      "['apple', 'banana', 'orange', 'kiwi']\n"
     ]
    }
   ],
   "source": [
    "# Test the function\n",
    "input_list = [1, 'apple', 'banana', 3, 'orange', 'kiwi']\n",
    "result = get_string_lists(input_list)\n",
    "print(result)"
   ]
  },
  {
   "cell_type": "code",
   "execution_count": 18,
   "metadata": {},
   "outputs": [
    {
     "name": "stdout",
     "output_type": "stream",
     "text": [
      "The sum of [3, 5, 8, 2, 14] is 32\n"
     ]
    }
   ],
   "source": [
    "# Use reduce to sum all the numbers in the numbers list.\n",
    "from functools import reduce\n",
    "def add(x,y):\n",
    "    return x + y\n",
    "sum_all = reduce(add,numbers)\n",
    "print(f'The sum of {numbers} is {sum_all}')"
   ]
  },
  {
   "cell_type": "code",
   "execution_count": 19,
   "metadata": {},
   "outputs": [
    {
     "name": "stdout",
     "output_type": "stream",
     "text": [
      "Estonia, Finland, Sweden, Denmark, Norway and Iceland are North European countries \n"
     ]
    }
   ],
   "source": [
    "# Use reduce to concatenate all the countries and to produce this sentence: Estonia, Finland, Sweden, Denmark, Norway, and Iceland are north European countries\n",
    "concat = reduce(lambda x,y:x + ',' + ' '+ y,countries[:-1])\n",
    "print(f'{concat} and {countries[-1]} are North European countries ')"
   ]
  },
  {
   "cell_type": "code",
   "execution_count": 20,
   "metadata": {},
   "outputs": [
    {
     "name": "stdout",
     "output_type": "stream",
     "text": [
      "Countries with \"pattern\":  ['Afghanistan', 'Kazakhstan', 'Kyrgyzstan', 'Pakistan', 'Tajikistan', 'Turkmenistan', 'Uzbekistan']\n"
     ]
    }
   ],
   "source": [
    "# Declare a function called categorize_countries that returns a list of countries with some common pattern (you can find the countries list in this repository as countries.js(eg 'land', 'ia', 'island', 'stan')).\n",
    "# countries list\n",
    "countries = [\n",
    "  'Afghanistan',\n",
    "  'Albania',\n",
    "  'Algeria',\n",
    "  'Andorra',\n",
    "  'Angola',\n",
    "  'Antigua and Barbuda',\n",
    "  'Argentina',\n",
    "  'Armenia',\n",
    "  'Australia',\n",
    "  'Austria',\n",
    "  'Azerbaijan',\n",
    "  'Bahamas',\n",
    "  'Bahrain',\n",
    "  'Bangladesh',\n",
    "  'Barbados',\n",
    "  'Belarus',\n",
    "  'Belgium',\n",
    "  'Belize',\n",
    "  'Benin',\n",
    "  'Bhutan',\n",
    "  'Bolivia',\n",
    "  'Bosnia and Herzegovina',\n",
    "  'Botswana',\n",
    "  'Brazil',\n",
    "  'Brunei',\n",
    "  'Bulgaria',\n",
    "  'Burkina Faso',\n",
    "  'Burundi',\n",
    "  'Cambodia',\n",
    "  'Cameroon',\n",
    "  'Canada',\n",
    "  'Cape Verde',\n",
    "  'Central African Republic',\n",
    "  'Chad',\n",
    "  'Chile',\n",
    "  'China',\n",
    "  'Colombi',\n",
    "  'Comoros',\n",
    "  'Congo (Brazzaville)',\n",
    "  'Congo',\n",
    "  'Costa Rica',\n",
    "  \"Cote d'Ivoire\",\n",
    "  'Croatia',\n",
    "  'Cuba',\n",
    "  'Cyprus',\n",
    "  'Czech Republic',\n",
    "  'Denmark',\n",
    "  'Djibouti',\n",
    "  'Dominica',\n",
    "  'Dominican Republic',\n",
    "  'East Timor (Timor Timur)',\n",
    "  'Ecuador',\n",
    "  'Egypt',\n",
    "  'El Salvador',\n",
    "  'Equatorial Guinea',\n",
    "  'Eritrea',\n",
    "  'Estonia',\n",
    "  'Ethiopia',\n",
    "  'Fiji',\n",
    "  'Finland',\n",
    "  'France',\n",
    "  'Gabon',\n",
    "  'Gambia, The',\n",
    "  'Georgia',\n",
    "  'Germany',\n",
    "  'Ghana',\n",
    "  'Greece',\n",
    "  'Grenada',\n",
    "  'Guatemala',\n",
    "  'Guinea',\n",
    "  'Guinea-Bissau',\n",
    "  'Guyana',\n",
    "  'Haiti',\n",
    "  'Honduras',\n",
    "  'Hungary',\n",
    "  'Iceland',\n",
    "  'India',\n",
    "  'Indonesia',\n",
    "  'Iran',\n",
    "  'Iraq',\n",
    "  'Ireland',\n",
    "  'Israel',\n",
    "  'Italy',\n",
    "  'Jamaica',\n",
    "  'Japan',\n",
    "  'Jordan',\n",
    "  'Kazakhstan',\n",
    "  'Kenya',\n",
    "  'Kiribati',\n",
    "  'Korea, North',\n",
    "  'Korea, South',\n",
    "  'Kuwait',\n",
    "  'Kyrgyzstan',\n",
    "  'Laos',\n",
    "  'Latvia',\n",
    "  'Lebanon',\n",
    "  'Lesotho',\n",
    "  'Liberia',\n",
    "  'Libya',\n",
    "  'Liechtenstein',\n",
    "  'Lithuania',\n",
    "  'Luxembourg',\n",
    "  'Macedonia',\n",
    "  'Madagascar',\n",
    "  'Malawi',\n",
    "  'Malaysia',\n",
    "  'Maldives',\n",
    "  'Mali',\n",
    "  'Malta',\n",
    "  'Marshall Islands',\n",
    "  'Mauritania',\n",
    "  'Mauritius',\n",
    "  'Mexico',\n",
    "  'Micronesia',\n",
    "  'Moldova',\n",
    "  'Monaco',\n",
    "  'Mongolia',\n",
    "  'Morocco',\n",
    "  'Mozambique',\n",
    "  'Myanmar',\n",
    "  'Namibia',\n",
    "  'Nauru',\n",
    "  'Nepal',\n",
    "  'Netherlands',\n",
    "  'New Zealand',\n",
    "  'Nicaragua',\n",
    "  'Niger',\n",
    "  'Nigeria',\n",
    "  'Norway',\n",
    "  'Oman',\n",
    "  'Pakistan',\n",
    "  'Palau',\n",
    "  'Panama',\n",
    "  'Papua New Guinea',\n",
    "  'Paraguay',\n",
    "  'Peru',\n",
    "  'Philippines',\n",
    "  'Poland',\n",
    "  'Portugal',\n",
    "  'Qatar',\n",
    "  'Romania',\n",
    "  'Russia',\n",
    "  'Rwanda',\n",
    "  'Saint Kitts and Nevis',\n",
    "  'Saint Lucia',\n",
    "  'Saint Vincent',\n",
    "  'Samoa',\n",
    "  'San Marino',\n",
    "  'Sao Tome and Principe',\n",
    "  'Saudi Arabia',\n",
    "  'Senegal',\n",
    "  'Serbia and Montenegro',\n",
    "  'Seychelles',\n",
    "  'Sierra Leone',\n",
    "  'Singapore',\n",
    "  'Slovakia',\n",
    "  'Slovenia',\n",
    "  'Solomon Islands',\n",
    "  'Somalia',\n",
    "  'South Africa',\n",
    "  'Spain',\n",
    "  'Sri Lanka',\n",
    "  'Sudan',\n",
    "  'Suriname',\n",
    "  'Swaziland',\n",
    "  'Sweden',\n",
    "  'Switzerland',\n",
    "  'Syria',\n",
    "  'Taiwan',\n",
    "  'Tajikistan',\n",
    "  'Tanzania',\n",
    "  'Thailand',\n",
    "  'Togo',\n",
    "  'Tonga',\n",
    "  'Trinidad and Tobago',\n",
    "  'Tunisia',\n",
    "  'Turkey',\n",
    "  'Turkmenistan',\n",
    "  'Tuvalu',\n",
    "  'Uganda',\n",
    "  'Ukraine',\n",
    "  'United Arab Emirates',\n",
    "  'United Kingdom',\n",
    "  'United States',\n",
    "  'Uruguay',\n",
    "  'Uzbekistan',\n",
    "  'Vanuatu',\n",
    "  'Vatican City',\n",
    "  'Venezuela',\n",
    "  'Vietnam',\n",
    "  'Yemen',\n",
    "  'Zambia',\n",
    "  'Zimbabwe',\n",
    "]\n",
    "# Declare a function called categorize_countries that returns a list of countries with some common pattern \n",
    "# (you can find the countries list in this repository as countries.js(eg 'land', 'ia', 'island', 'stan')).\n",
    "def categorize_countries(pattern):\n",
    "    list_countries = []\n",
    "    for country in countries:\n",
    "        if pattern.lower() in country:\n",
    "            list_countries.append(country)\n",
    "    return list_countries\n",
    "\n",
    "print(f'Countries with \"pattern\": ',categorize_countries('stan'))"
   ]
  },
  {
   "cell_type": "code",
   "execution_count": 21,
   "metadata": {},
   "outputs": [
    {
     "name": "stdout",
     "output_type": "stream",
     "text": [
      " Dictionary of number of countries per letter: {'A': 11, 'B': 17, 'C': 18, 'D': 4, 'E': 8, 'F': 3, 'G': 11, 'H': 3, 'I': 8, 'J': 3, 'K': 7, 'L': 9, 'M': 18, 'N': 9, 'O': 1, 'P': 9, 'Q': 1, 'R': 3, 'S': 25, 'T': 11, 'U': 7, 'V': 4, 'Y': 1, 'Z': 2}\n"
     ]
    }
   ],
   "source": [
    "# Create a function returning a dictionary, where keys stand for starting letters of countries and values are the number of country names starting with that letter.\n",
    "def countries_dict():\n",
    "    dict_countries = {}\n",
    "    for country in countries:\n",
    "        dict_countries[country[0]] = dict_countries.get(country[0],0) + 1\n",
    "    return dict_countries\n",
    "print(f' Dictionary of number of countries per letter: {countries_dict()}')"
   ]
  },
  {
   "cell_type": "code",
   "execution_count": 22,
   "metadata": {},
   "outputs": [
    {
     "name": "stdout",
     "output_type": "stream",
     "text": [
      " First ten countries in the countries list: ['Afghanistan', 'Albania', 'Algeria', 'Andorra', 'Angola', 'Antigua and Barbuda', 'Argentina', 'Armenia', 'Australia', 'Austria']\n"
     ]
    }
   ],
   "source": [
    "# Declare a get_first_ten_countries function - it returns a list of first ten countries from the countries.js list in the data folder.\n",
    "def get_first_ten_countries():\n",
    "    return countries[:10]\n",
    "\n",
    "print(f' First ten countries in the countries list: {get_first_ten_countries()}')"
   ]
  },
  {
   "cell_type": "code",
   "execution_count": 23,
   "metadata": {},
   "outputs": [
    {
     "name": "stdout",
     "output_type": "stream",
     "text": [
      "The last ten countries in the countries list: ['United States', 'Uruguay', 'Uzbekistan', 'Vanuatu', 'Vatican City', 'Venezuela', 'Vietnam', 'Yemen', 'Zambia', 'Zimbabwe']\n"
     ]
    }
   ],
   "source": [
    "# Declare a get_last_ten_countries function that returns the last ten countries in the countries list.\n",
    "def get_last_ten_countries():\n",
    "    return countries[-10:]\n",
    "\n",
    "print(f'The last ten countries in the countries list: {get_last_ten_countries()}')"
   ]
  },
  {
   "cell_type": "code",
   "execution_count": null,
   "metadata": {},
   "outputs": [],
   "source": []
  }
 ],
 "metadata": {
  "kernelspec": {
   "display_name": "ArewaDS",
   "language": "python",
   "name": "python3"
  },
  "language_info": {
   "codemirror_mode": {
    "name": "ipython",
    "version": 3
   },
   "file_extension": ".py",
   "mimetype": "text/x-python",
   "name": "python",
   "nbconvert_exporter": "python",
   "pygments_lexer": "ipython3",
   "version": "3.8.18"
  }
 },
 "nbformat": 4,
 "nbformat_minor": 2
}
