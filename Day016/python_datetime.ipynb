{
 "cells": [
  {
   "cell_type": "markdown",
   "metadata": {},
   "source": [
    "# Exercises: Day 16"
   ]
  },
  {
   "cell_type": "markdown",
   "metadata": {},
   "source": [
    "Task 1:Get the current day, month, year, hour, minute and timestamp from datetime module"
   ]
  },
  {
   "cell_type": "code",
   "execution_count": 5,
   "metadata": {},
   "outputs": [
    {
     "name": "stdout",
     "output_type": "stream",
     "text": [
      "The current day is: 30\n",
      "The current month is: 12\n",
      "The current year is 2023\n",
      "The current hour is 19\n",
      "The current minute is 19\n",
      "The timestamp is: 1703985555.144291\n"
     ]
    }
   ],
   "source": [
    "from datetime import datetime\n",
    "today = datetime.today()\n",
    "print(\"The current day is:\", today.day)\n",
    "print(\"The current month is:\", today.month)\n",
    "print(\"The current year is\", today.year)\n",
    "print(\"The current hour is\", today.hour)\n",
    "print(\"The current minute is\", today.minute)\n",
    "print(\"The timestamp is:\", today.timestamp())"
   ]
  },
  {
   "cell_type": "markdown",
   "metadata": {},
   "source": [
    "Task 2:Format the current date using this format: \"%m/%d/%Y, %H:%M:%S\""
   ]
  },
  {
   "cell_type": "code",
   "execution_count": 10,
   "metadata": {},
   "outputs": [
    {
     "name": "stdout",
     "output_type": "stream",
     "text": [
      "2023-12-30 19:28:30.199769\n",
      "The formatted date is: 12 30 2023, 19:28:30\n"
     ]
    }
   ],
   "source": [
    "from datetime import datetime\n",
    "now = datetime.now()\n",
    "print(now)\n",
    "current_date = now.strftime(\"%m %d %Y, %H:%M:%S\")\n",
    "print(\"The formatted date is:\", current_date)"
   ]
  },
  {
   "cell_type": "markdown",
   "metadata": {},
   "source": [
    "Task 3:Today is 5 December, 2019. Change this time string to time."
   ]
  },
  {
   "cell_type": "code",
   "execution_count": 15,
   "metadata": {},
   "outputs": [
    {
     "name": "stdout",
     "output_type": "stream",
     "text": [
      "2019-12-05 00:00:00\n"
     ]
    }
   ],
   "source": [
    "from datetime import datetime\n",
    "today =\"5 December,2019\"\n",
    "time_string = datetime.strptime(today,\"%d %B,%Y\")\n",
    "print(time_string)"
   ]
  },
  {
   "cell_type": "markdown",
   "metadata": {},
   "source": [
    "Task 4:Calculate the time difference between now and new year."
   ]
  },
  {
   "cell_type": "code",
   "execution_count": 17,
   "metadata": {},
   "outputs": [
    {
     "name": "stdout",
     "output_type": "stream",
     "text": [
      "The difference is: 1 day, 8:29:10\n"
     ]
    }
   ],
   "source": [
    "this_year = datetime(day=30, month=12, year=2023, hour=15, minute=30, second=50)\n",
    "new_year = datetime(day=1, month=1, year=2024, hour=0, minute=0, second=0)\n",
    "diff = new_year - this_year\n",
    "print(\"The difference is:\", diff)"
   ]
  },
  {
   "cell_type": "markdown",
   "metadata": {},
   "source": [
    "Task 5:Calculate the time difference between 1 January 1970 and now."
   ]
  },
  {
   "cell_type": "code",
   "execution_count": 18,
   "metadata": {},
   "outputs": [
    {
     "name": "stdout",
     "output_type": "stream",
     "text": [
      "The difference is: 19722 days, 2:47:55\n"
     ]
    }
   ],
   "source": [
    "date_given = datetime(day=1, month=1, year=1970, hour=0, second=0, minute=0)\n",
    "date_now = datetime(day=31, month=12, year=2023, hour=2, minute=47, second=55)\n",
    "diff = date_now - date_given\n",
    "print(\"The difference is:\", diff)"
   ]
  },
  {
   "cell_type": "markdown",
   "metadata": {},
   "source": []
  }
 ],
 "metadata": {
  "kernelspec": {
   "display_name": "ArewaDS",
   "language": "python",
   "name": "python3"
  },
  "language_info": {
   "codemirror_mode": {
    "name": "ipython",
    "version": 3
   },
   "file_extension": ".py",
   "mimetype": "text/x-python",
   "name": "python",
   "nbconvert_exporter": "python",
   "pygments_lexer": "ipython3",
   "version": "3.8.18"
  }
 },
 "nbformat": 4,
 "nbformat_minor": 2
}
