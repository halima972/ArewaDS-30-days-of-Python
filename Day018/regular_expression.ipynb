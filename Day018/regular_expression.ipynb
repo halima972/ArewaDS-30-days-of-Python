{
 "cells": [
  {
   "cell_type": "code",
   "execution_count": 29,
   "metadata": {},
   "outputs": [
    {
     "name": "stdout",
     "output_type": "stream",
     "text": [
      "['love', 'love', 'love', 'love', 'love', 'love']\n",
      "6\n",
      "The most frequent word is love because it has 6 times occurances.\n"
     ]
    }
   ],
   "source": [
    "import re\n",
    "paragraph = '''I love teaching. If you do not love teaching what else can you love. \n",
    "I love Python if you do not love something which can give you all the capabilities to develop an application what else can you love.'''\n",
    "\n",
    "#most frequent word\n",
    "word = input(\"Enter a word from the paragraph\")\n",
    "matches = re.findall(word,paragraph,re.I)\n",
    "print(matches)\n",
    "print(len(matches))\n",
    "a = len(matches)\n",
    "if a == 6:\n",
    "    print (\"The most frequent word is\",word,\"because it has\",len(matches),\"times occurances.\")\n",
    "elif a <= 6:\n",
    "    print(\"The word entered has\",len(matches),\"occurance(s) and it does't have the highest frequency.\")\n",
    "else:\n",
    "    print(\"Wrong word entered\")\n",
    "\n"
   ]
  },
  {
   "cell_type": "markdown",
   "metadata": {},
   "source": [
    "Task 2:The position of some particles on the horizontal x-axis are -12, -4, -3 and -1 in the negative direction, 0 at origin, 4 and 8 in the positive direction. Extract these numbers from this whole text and find the distance between the two furthest particles."
   ]
  },
  {
   "cell_type": "code",
   "execution_count": 32,
   "metadata": {},
   "outputs": [
    {
     "name": "stdout",
     "output_type": "stream",
     "text": [
      "-12 -4 -3 -1 0 4 8 -12 -4 -3 -1 -1 0 2 4 8\n",
      "The answer is 20\n"
     ]
    }
   ],
   "source": [
    "points = ['-12', '-4', '-3', '-1', '0', '4', '8']\n",
    "sorted_points =  [-12, -4, -3, -1, -1, 0, 2, 4, 8]\n",
    "\n",
    "#extract the whole text\n",
    "a = print(*points,*sorted_points)\n",
    "\n",
    "#find the two furthest particles\n",
    "distance_particles = 8 -(-12)\n",
    "print(\"The answer is\",distance_particles)"
   ]
  },
  {
   "cell_type": "markdown",
   "metadata": {},
   "source": [
    "## Exercises: Level 2"
   ]
  },
  {
   "cell_type": "markdown",
   "metadata": {},
   "source": [
    "Task 1:Write a pattern which identifies if a string is a valid python variable"
   ]
  },
  {
   "cell_type": "code",
   "execution_count": 44,
   "metadata": {},
   "outputs": [
    {
     "name": "stdout",
     "output_type": "stream",
     "text": [
      "True\n",
      "False\n",
      "False\n",
      "True\n"
     ]
    }
   ],
   "source": [
    "def is_valid_variable(para1):\n",
    "   pattern = r'^[a-zA-Z_]\\w*$'\n",
    "   return bool(re.match(pattern, para1))\n",
    "\n",
    "\n",
    "print(is_valid_variable('first_name'))\n",
    "print(is_valid_variable('first-name')) \n",
    "print(is_valid_variable('1first_name')) \n",
    "print(is_valid_variable('firstname')) "
   ]
  },
  {
   "cell_type": "markdown",
   "metadata": {},
   "source": [
    "## Exercises: Level 3"
   ]
  },
  {
   "cell_type": "markdown",
   "metadata": {},
   "source": [
    "Task 1:Clean the following text. After cleaning, count three most frequent words in the string."
   ]
  },
  {
   "cell_type": "code",
   "execution_count": 62,
   "metadata": {},
   "outputs": [
    {
     "name": "stdout",
     "output_type": "stream",
     "text": [
      "I am a teacher, and I love teaching. There is nothing as more rewarding as educating and empowering people. I found teaching more interesting than any other jobs. Does this motivate you to be a teacher!?\n",
      "[(3, 'I'), (2, 'a'), (2, 'and'), (2, 'as'), (2, 'more'), (1, 'am'), (1, 'teacher,'), (1, 'love'), (1, 'teaching.'), (1, 'There'), (1, 'is'), (1, 'nothing'), (1, 'rewarding'), (1, 'educating'), (1, 'empowering'), (1, 'people.'), (1, 'found'), (1, 'teaching'), (1, 'interesting'), (1, 'than'), (1, 'any'), (1, 'other'), (1, 'jobs.'), (1, 'Does'), (1, 'this'), (1, 'motivate'), (1, 'you'), (1, 'to'), (1, 'be'), (1, 'teacher!?')]\n"
     ]
    }
   ],
   "source": [
    "sentence = '''%I $am@% a %tea@cher%, &and& I lo%#ve %tea@ching%;. There $is nothing; &as& mo@re rewarding as educa@ting &and& @emp%o@wering peo@ple. ;I found tea@ching m%o@re interesting tha@n any other %jo@bs. %Do@es thi%s mo@tivate yo@u to be a tea@cher!?'''\n",
    "\n",
    "#clean the sentence\n",
    "clean_text = re.sub(r'[%;@#&$]','',sentence)\n",
    "print(clean_text)\n",
    "\n",
    "#count frequent words\n",
    "from collections import Counter\n",
    "import re\n",
    "\n",
    "def most_frequent_words(text):\n",
    "    words = clean_text.split()\n",
    "    word_counts = Counter(words)\n",
    "\n",
    "    # Retrieve the three most frequent words\n",
    "    most_common_words = word_counts.most_common(36)\n",
    "    return most_common_words\n",
    "result = most_frequent_words(clean_text)\n",
    "formatted_result = [(count, word) for word, count in result]\n",
    "print(formatted_result)\n"
   ]
  }
 ],
 "metadata": {
  "language_info": {
   "name": "python"
  }
 },
 "nbformat": 4,
 "nbformat_minor": 2
}
