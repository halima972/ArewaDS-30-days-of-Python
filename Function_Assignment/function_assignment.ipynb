{
 "cells": [
  {
   "cell_type": "markdown",
   "metadata": {},
   "source": [
    "Task 1:Write a function called display_message() that prints one sentence telling everyone what you are learning about in this chapter. Call the function, and make sure the message displays correctly"
   ]
  },
  {
   "cell_type": "code",
   "execution_count": 5,
   "metadata": {},
   "outputs": [
    {
     "name": "stdout",
     "output_type": "stream",
     "text": [
      "Hello,i am learning functions in this chapter.\n"
     ]
    }
   ],
   "source": [
    "def display_message():\n",
    "    print(\"Hello,i am learning functions in this chapter.\")\n",
    "\n",
    "\n",
    "#call function\n",
    "display_message()"
   ]
  },
  {
   "cell_type": "markdown",
   "metadata": {},
   "source": [
    "Task 2:Write a function called favorite_book() that accepts one parameter, title. The function should print a message, such as One of my favorite books is Alice in Wonderland. Call the function, making sure to include a book title as an argument in the function call."
   ]
  },
  {
   "cell_type": "code",
   "execution_count": 10,
   "metadata": {},
   "outputs": [
    {
     "name": "stdout",
     "output_type": "stream",
     "text": [
      "My favorite book is Beauty_and_the_Beast\n"
     ]
    }
   ],
   "source": [
    "def favorite_book(title_name):\n",
    "    print(\"My favorite book is\",title_name)\n",
    "\n",
    "#calling function\n",
    "favorite_book(\"Beauty_and_the_Beast\")"
   ]
  },
  {
   "cell_type": "markdown",
   "metadata": {},
   "source": [
    "Task 3:\n",
    "\n",
    "Write a function called make_shirt() that accepts a size and the text of a message that should be printed on the shirt. The function should print a sentence summarizing the size of the shirt and the message printed on it. Call the function once using positional arguments to make a shirt. Call the function a second time using keyword arguments.\n",
    "\n"
   ]
  },
  {
   "cell_type": "code",
   "execution_count": 14,
   "metadata": {},
   "outputs": [
    {
     "name": "stdout",
     "output_type": "stream",
     "text": [
      "The size of the shirt is: Large The message is: This is Awesome\n",
      "The size of the shirt is: Medium The message is: I love me,myself and I\n"
     ]
    }
   ],
   "source": [
    "def make_shirt(size,message):\n",
    "    print(\"The size of the shirt is:\",size,\"The message is:\",message)\n",
    "\n",
    "#Calling the function usin positional arguement\n",
    "make_shirt(\"Large\",\"This is Awesome\")\n",
    "\n",
    "#callin the function using keyword arguement\n",
    "make_shirt(size=\"Medium\",message=\"I love me,myself and I\")"
   ]
  },
  {
   "cell_type": "markdown",
   "metadata": {},
   "source": [
    "Task 4:Large Shirts: Modify the make_shirt() function so that shirts are large by default with a message that reads I love Python. Make a large shirt and a medium shirt with the default message, and a shirt of any size with a different message"
   ]
  },
  {
   "cell_type": "code",
   "execution_count": 20,
   "metadata": {},
   "outputs": [
    {
     "name": "stdout",
     "output_type": "stream",
     "text": [
      "size: Large message: THIS IS AWESOME\n",
      "size: Medium message: I love me,myself and i\n",
      "size: Small message: python is fun\n"
     ]
    }
   ],
   "source": [
    "def make_shirt(size=\"Large\",message=\"This is Awesome\"):\n",
    "    print(\"size:\",size, \"message:\",message.upper())\n",
    "\n",
    "#Calling modified function\n",
    "make_shirt()\n",
    "#medium shirt\n",
    "def make_shirt_medium(size=\"Medium\",message=\"I love me,myself and I\"):\n",
    "    print(\"size:\",size, \"message:\",message.capitalize())\n",
    "make_shirt_medium()\n",
    "\n",
    "#small shirt\n",
    "def make_shirt_small(size=\"Small\",message=\"Python is Fun\"):\n",
    "    print(\"size:\",size, \"message:\",message.lower())\n",
    "make_shirt_small()"
   ]
  },
  {
   "cell_type": "markdown",
   "metadata": {},
   "source": [
    "Task 5:Write a function called describe_city() that accepts the name of a city and its country. The function should print a simple sentence, such as Reykjavik is in Iceland. Give the parameter for the country a default value. Call your function for three different cities, at least one of which is not in the default country."
   ]
  },
  {
   "cell_type": "code",
   "execution_count": 26,
   "metadata": {},
   "outputs": [
    {
     "name": "stdout",
     "output_type": "stream",
     "text": [
      "Kaduna is a state in Nigeria\n",
      "Abuja is a state in Nigeria\n",
      "New York is a state in USA\n"
     ]
    }
   ],
   "source": [
    "def describe_city(city_name,country_name=\"USA\"):\n",
    "    print(city_name,\"is a state in\",country_name)\n",
    "#calling the function\n",
    "describe_city(\"Kaduna\",\"Nigeria\")\n",
    "describe_city(\"Abuja\",\"Nigeria\")\n",
    "describe_city(\"New York\")\n"
   ]
  },
  {
   "cell_type": "markdown",
   "metadata": {},
   "source": [
    "Task 5:Write a function called city_country() that takes in the name of a city and its country. The function should return a string formatted like this: \"Santiago, Chile\" Call your function with at least three city-country pairs, and print the values that are returned."
   ]
  },
  {
   "cell_type": "code",
   "execution_count": 31,
   "metadata": {},
   "outputs": [
    {
     "name": "stdout",
     "output_type": "stream",
     "text": [
      "('Kaduna', 'Nigeria')\n",
      "('Jigawa', 'Nigeria')\n",
      "('Katsina', 'Nigeria')\n"
     ]
    }
   ],
   "source": [
    "def city_country(city,country):\n",
    "    return city.capitalize(),country.capitalize()\n",
    "    \n",
    "#calling function\n",
    "a = city_country(\"kaduna\",\"nigeria\")\n",
    "b = city_country(\"jigawa\",\"nigeria\")\n",
    "c = city_country(\"katsina\",\"nigeria\")\n",
    "\n",
    "print(a)\n",
    "print(b)\n",
    "print(c)"
   ]
  },
  {
   "cell_type": "markdown",
   "metadata": {},
   "source": [
    "Task 6:Write a function called make_album() that builds a dictionary describing a music album. The function should take in an artist name and an album title, and it should return a dictionary containing these two pieces of information. Use the function to make three dictionaries representing different albums. Print each return value to show that the dictionaries are storing the album information correctly. Use None to add an optional parameter to make_album() that allows you to store the number of songs on an album. If the calling line includes a value for the number of songs, add that value to the album’s dictionary. Make at least one new function call that includes the number of songs on an album."
   ]
  },
  {
   "cell_type": "code",
   "execution_count": 32,
   "metadata": {},
   "outputs": [
    {
     "name": "stdout",
     "output_type": "stream",
     "text": [
      "{'Artist': 'Ed Sheeran', 'Album': 'Divide'}\n",
      "{'Artist': 'Beyoncé', 'Album': 'Lemonade'}\n",
      "{'Artist': 'Coldplay', 'Album': 'A Head Full of Dreams'}\n"
     ]
    }
   ],
   "source": [
    "def make_album(artist_name,album_title,songs=None):\n",
    "    album = {'Artist':artist_name, 'Album':album_title}\n",
    "    if songs:\n",
    "        album['songs'] = songs\n",
    "    return album\n",
    "\n",
    "# Make three dictionaries representing different albums\n",
    "album1 = make_album(\"Ed Sheeran\", \"Divide\")\n",
    "album2 = make_album(\"Beyoncé\", \"Lemonade\")\n",
    "album3 = make_album(\"Coldplay\", \"A Head Full of Dreams\")\n",
    "\n",
    "# Print each return value\n",
    "print(album1)\n",
    "print(album2)\n",
    "print(album3)"
   ]
  },
  {
   "cell_type": "markdown",
   "metadata": {},
   "source": [
    "Task 7:Start with your program from Exercise 8-7. Write a while loop that allows users to enter an album’s artist and title. Once you have that information, call make_album() with the user’s input and print the dictionary that’s created. Be sure to include a quit value in the while loop."
   ]
  },
  {
   "cell_type": "code",
   "execution_count": 33,
   "metadata": {},
   "outputs": [
    {
     "name": "stdout",
     "output_type": "stream",
     "text": [
      "{'artist': 'Ed sherean', 'title': 'Divde'}\n",
      "{'artist': 'Coldplay', 'title': 'A head full of dreams'}\n"
     ]
    }
   ],
   "source": [
    "def make_album(artist_name, artist_title, songs=None):\n",
    "    album = {'artist': artist_name, 'title': artist_title}\n",
    "    if songs:\n",
    "        album['songs'] = songs\n",
    "    return album\n",
    "\n",
    "while True:\n",
    "    user_input = input(\"Enter the artist's name (or 'quit' to exit): \")\n",
    "    if user_input.lower() == 'quit':\n",
    "        break\n",
    "\n",
    "    title_input = input(\"Enter the album title: \")\n",
    "\n",
    "    # Call make_album with user input and print the dictionary\n",
    "    album_name = make_album(user_input, title_input)\n",
    "    print(album_name)"
   ]
  },
  {
   "cell_type": "markdown",
   "metadata": {},
   "source": [
    "Task 8:Make a list containing a series of short text messages. Pass the list to a function called show_messages(), which prints each text message."
   ]
  },
  {
   "cell_type": "code",
   "execution_count": 38,
   "metadata": {},
   "outputs": [
    {
     "name": "stdout",
     "output_type": "stream",
     "text": [
      "How are you?\n",
      "Do You know me?\n",
      "How was ur journey?\n",
      "Nice to meet u\n"
     ]
    }
   ],
   "source": [
    "short_msg = [\"How are you?\",\"Do You know me?\",\"How was ur journey?\",\"Nice to meet u\"]\n",
    "def show_messages(messages):\n",
    "    for msg in messages:\n",
    "        print(msg)\n",
    "\n",
    "show_messages(short_msg)"
   ]
  },
  {
   "cell_type": "markdown",
   "metadata": {},
   "source": [
    "Task 9:Sending Messages: Start with a copy of your program from Exercise 8-9. Write a function called send_messages() that prints each text message and moves each message to a new list called sent_messages as it’s printed. After calling the function, print both of your lists to make sure the messages were moved correctly."
   ]
  },
  {
   "cell_type": "code",
   "execution_count": 39,
   "metadata": {},
   "outputs": [
    {
     "name": "stdout",
     "output_type": "stream",
     "text": [
      "How are you?\n",
      "Do You know me?\n",
      "How was ur journey?\n",
      "Nice to meet u\n",
      "Sending message: How are you?\n",
      "Sending message: Do You know me?\n",
      "Sending message: How was ur journey?\n",
      "Sending message: Nice to meet u\n",
      "Original messages:\n",
      "\n",
      "Sent messages:\n",
      "How are you?\n",
      "Do You know me?\n",
      "How was ur journey?\n",
      "Nice to meet u\n"
     ]
    }
   ],
   "source": [
    "short_msg = [\"How are you?\",\"Do You know me?\",\"How was ur journey?\",\"Nice to meet u\"]\n",
    "def show_messages(messages):\n",
    "    for msg in messages:\n",
    "        print(msg)\n",
    "\n",
    "show_messages(short_msg)\n",
    "\n",
    "def send_messages(messages, sent_messages):\n",
    "    while messages:\n",
    "        old_message = messages.pop(0)\n",
    "        print(f\"Sending message: {old_message}\")\n",
    "        sent_messages.append(old_message)\n",
    "\n",
    "#empty list for new msgs\n",
    "sent_messages = []\n",
    "\n",
    "# Call the function to send and print messages\n",
    "send_messages(short_msg, sent_messages)\n",
    "\n",
    "# Print both lists to verify\n",
    "print(\"Original messages:\")\n",
    "show_messages(short_msg)\n",
    "\n",
    "print(\"\\nSent messages:\")\n",
    "show_messages(sent_messages)"
   ]
  },
  {
   "cell_type": "markdown",
   "metadata": {},
   "source": [
    "Task 10:Archived Messages: Start with your work from Exercise 8-10. Call the func- tion send_messages() with a copy of the list of messages. After calling the func- tion, print both of your lists to show that the original list has retained its messages."
   ]
  },
  {
   "cell_type": "code",
   "execution_count": 40,
   "metadata": {},
   "outputs": [
    {
     "name": "stdout",
     "output_type": "stream",
     "text": [
      "How are you?\n",
      "Do You know me?\n",
      "How was ur journey?\n",
      "Nice to meet u\n",
      "Sending message: How are you?\n",
      "Sending message: Do You know me?\n",
      "Sending message: How was ur journey?\n",
      "Sending message: Nice to meet u\n",
      "Original messages:\n",
      "How are you?\n",
      "Do You know me?\n",
      "How was ur journey?\n",
      "Nice to meet u\n",
      "\n",
      "Sent messages:\n",
      "How are you?\n",
      "Do You know me?\n",
      "How was ur journey?\n",
      "Nice to meet u\n"
     ]
    }
   ],
   "source": [
    "short_msg = [\"How are you?\",\"Do You know me?\",\"How was ur journey?\",\"Nice to meet u\"]\n",
    "def show_messages(messages):\n",
    "    for msg in messages:\n",
    "        print(msg)\n",
    "\n",
    "show_messages(short_msg)\n",
    "\n",
    "def send_messages(messages, sent_messages):\n",
    "    while messages:\n",
    "        old_message = messages.pop(0)\n",
    "        print(f\"Sending message: {old_message}\")\n",
    "        sent_messages.append(old_message)\n",
    "\n",
    "# Create a copy of the list \n",
    "messages_copy = short_msg.copy()\n",
    "\n",
    "# Empty list to store sent messages\n",
    "sent_messages = []\n",
    "\n",
    "# Call the function to send and print messages using the copy\n",
    "send_messages(messages_copy, sent_messages)\n",
    "\n",
    "# Print both lists to verify\n",
    "print(\"Original messages:\")\n",
    "show_messages(short_msg)\n",
    "\n",
    "print(\"\\nSent messages:\")\n",
    "show_messages(sent_messages)"
   ]
  },
  {
   "cell_type": "markdown",
   "metadata": {},
   "source": [
    "Task 11:Sandwiches: Write a function that accepts a list of items a person wants on a sandwich. The function should have one parameter that collects as many items as the function call provides, and it should print a summary of the sand- wich that’s being ordered. Call the function three times, using a different num- ber of arguments each time."
   ]
  },
  {
   "cell_type": "code",
   "execution_count": 43,
   "metadata": {},
   "outputs": [
    {
     "name": "stdout",
     "output_type": "stream",
     "text": [
      "What do u want on ur sandwiches today:\n",
      "-Peanut butter\n",
      "-Jelly\n",
      "-Bread\n",
      "What do u want on ur sandwiches today:\n",
      "-Ham\n",
      "-Swiss\n",
      "What do u want on ur sandwiches today:\n",
      "-Turkey\n",
      "-Cheese\n",
      "-Lettuce\n"
     ]
    }
   ],
   "source": [
    "def make_sandwiches(*items):\n",
    "    print(\"What do u want on ur sandwiches today:\")\n",
    "    for item in items:\n",
    "        print(f\"-{item.capitalize()}\")\n",
    "\n",
    "#calling the function\n",
    "make_sandwiches(\"peanut butter\", \"jelly\", \"bread\")\n",
    "make_sandwiches(\"ham\", \"swiss\")\n",
    "make_sandwiches(\"turkey\", \"cheese\", \"lettuce\")\n"
   ]
  },
  {
   "cell_type": "markdown",
   "metadata": {},
   "source": [
    "Task 12:User Profile: Start with a copy of user_profile.py from page 148. Build a profile of yourself by calling build_profile(), using your first and last names and three other key-value pairs that describe you."
   ]
  },
  {
   "cell_type": "code",
   "execution_count": 44,
   "metadata": {},
   "outputs": [
    {
     "name": "stdout",
     "output_type": "stream",
     "text": [
      "{'first_name': 'Halima', 'last_name': 'Ladan', 'age': 20, 'occupation': 'Pentester', 'location': 'Kaduma, Nigeria'}\n"
     ]
    }
   ],
   "source": [
    "def build_profile(first_name, last_name, **additional_info):\n",
    "    profile = {'first_name': first_name, 'last_name': last_name}\n",
    "    profile.update(additional_info)\n",
    "    return profile\n",
    "\n",
    "# Create a profile for yourself\n",
    "my_profile = build_profile(\n",
    "    first_name=\"Halima\",\n",
    "    last_name=\"Ladan\",\n",
    "    age=20,\n",
    "    occupation=\"Pentester\",\n",
    "    location=\"Kaduma, Nigeria\"\n",
    ")\n",
    "\n",
    "print(my_profile)\n"
   ]
  },
  {
   "cell_type": "markdown",
   "metadata": {},
   "source": [
    "Task 13:Cars: Write a function that stores information about a car in a diction- ary. The function should always receive a manufacturer and a model name. It should then accept an arbitrary number of keyword arguments. Call the func- tion with the required information and two other name-value pairs, such as a color or an optional feature. Your function should work for a call like this one: car = make_car('subaru', 'outback', color='blue', tow_package=True) Print the dictionary that’s returned to make sure all the information was stored correctly."
   ]
  },
  {
   "cell_type": "code",
   "execution_count": 45,
   "metadata": {},
   "outputs": [
    {
     "name": "stdout",
     "output_type": "stream",
     "text": [
      "{'manufacturer': 'subaru', 'model': 'outback', 'color': 'blue', 'tow_package': True}\n"
     ]
    }
   ],
   "source": [
    "def make_car(manufacturer_name, model_name, **additional_car_info):\n",
    "    car = {'manufacturer': manufacturer_name, 'model': model_name}\n",
    "    car.update(additional_car_info)\n",
    "    return car\n",
    "\n",
    "# Call the function \n",
    "car = make_car('subaru', 'outback', color='blue', tow_package=True)\n",
    "print(car)"
   ]
  },
  {
   "cell_type": "markdown",
   "metadata": {},
   "source": [
    "Task 14:Printing Models: Put the functions for the example printing_models.py in a separate file called printing_functions.py. Write an import statement at the top of printing_models.py, and modify the file to use the imported functions."
   ]
  },
  {
   "cell_type": "code",
   "execution_count": 6,
   "metadata": {},
   "outputs": [
    {
     "name": "stdout",
     "output_type": "stream",
     "text": [
      "Printing model: keychain\n",
      "Printing model: pendant\n",
      "Printing model: phone case\n",
      "\n",
      "The following models have been printed:\n",
      "keychain\n",
      "pendant\n",
      "phone case\n"
     ]
    }
   ],
   "source": [
    "from printing_functions import print_models, show_completed_models\n",
    "\n",
    "# Sample data\n",
    "unprinted_designs = ['phone case', 'pendant', 'keychain']\n",
    "completed_models = []\n",
    "\n",
    "# Using imported functions\n",
    "print_models(unprinted_designs, completed_models)\n",
    "show_completed_models(completed_models)"
   ]
  },
  {
   "cell_type": "code",
   "execution_count": 7,
   "metadata": {},
   "outputs": [
    {
     "name": "stdout",
     "output_type": "stream",
     "text": [
      "Hello from my_function!\n"
     ]
    }
   ],
   "source": [
    "import module\n",
    "\n",
    "module.my_function()"
   ]
  },
  {
   "cell_type": "code",
   "execution_count": 8,
   "metadata": {},
   "outputs": [
    {
     "name": "stdout",
     "output_type": "stream",
     "text": [
      "Hello from my_function!\n"
     ]
    }
   ],
   "source": [
    "from module import my_function\n",
    "\n",
    "my_function()\n"
   ]
  },
  {
   "cell_type": "code",
   "execution_count": 9,
   "metadata": {},
   "outputs": [
    {
     "name": "stdout",
     "output_type": "stream",
     "text": [
      "Hello from my_function!\n"
     ]
    }
   ],
   "source": [
    "from module import my_function as fn\n",
    "\n",
    "fn()\n"
   ]
  },
  {
   "cell_type": "code",
   "execution_count": 10,
   "metadata": {},
   "outputs": [
    {
     "name": "stdout",
     "output_type": "stream",
     "text": [
      "Hello from my_function!\n"
     ]
    }
   ],
   "source": [
    "import module as md\n",
    "\n",
    "md.my_function()"
   ]
  },
  {
   "cell_type": "code",
   "execution_count": 11,
   "metadata": {},
   "outputs": [
    {
     "name": "stdout",
     "output_type": "stream",
     "text": [
      "Hello from my_function!\n"
     ]
    }
   ],
   "source": [
    "from module import *\n",
    "\n",
    "my_function()"
   ]
  },
  {
   "cell_type": "markdown",
   "metadata": {},
   "source": [
    "Styling Functions: Choose any three programs you wrote for this chapter, and make sure they follow the styling guidelines described in this section."
   ]
  },
  {
   "cell_type": "code",
   "execution_count": null,
   "metadata": {},
   "outputs": [],
   "source": [
    "def describe_city(city_name,country_name=\"USA\"):\n",
    "    print(city_name,\"is a state in\",country_name)\n",
    "#calling the function\n",
    "describe_city(\"Kaduna\",\"Nigeria\")\n",
    "describe_city(\"Abuja\",\"Nigeria\")\n",
    "describe_city(\"New York\")"
   ]
  }
 ],
 "metadata": {
  "kernelspec": {
   "display_name": "ArewaDS",
   "language": "python",
   "name": "python3"
  },
  "language_info": {
   "codemirror_mode": {
    "name": "ipython",
    "version": 3
   },
   "file_extension": ".py",
   "mimetype": "text/x-python",
   "name": "python",
   "nbconvert_exporter": "python",
   "pygments_lexer": "ipython3",
   "version": "3.8.18"
  }
 },
 "nbformat": 4,
 "nbformat_minor": 2
}
